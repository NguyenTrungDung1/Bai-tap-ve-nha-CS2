{
 "cells": [
  {
   "cell_type": "code",
   "execution_count": null,
   "id": "925c54fe-4353-42e3-97dc-9106288b10f8",
   "metadata": {},
   "outputs": [],
   "source": []
  }
 ],
 "metadata": {
  "kernelspec": {
   "display_name": "",
   "name": ""
  },
  "language_info": {
   "name": ""
  }
 },
 "nbformat": 4,
 "nbformat_minor": 5
}
