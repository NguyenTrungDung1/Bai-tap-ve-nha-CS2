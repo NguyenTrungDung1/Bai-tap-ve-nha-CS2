{
 "cells": [
  {
   "cell_type": "code",
   "execution_count": 2,
   "id": "925c54fe-4353-42e3-97dc-9106288b10f8",
   "metadata": {},
   "outputs": [
    {
     "name": "stdin",
     "output_type": "stream",
     "text": [
      "Nhap hai canh hcn 2 3\n"
     ]
    },
    {
     "name": "stdout",
     "output_type": "stream",
     "text": [
      "Dien tich hcn: 6.0\n",
      "Chu vi hcn: 10.0\n"
     ]
    }
   ],
   "source": [
    "#Bài 1: Nhập vào 2 cạnh của một hình chữ nhật. In ra màn hình diện tích và chu vi của nó. \n",
    "x, y=map(float, input(\"Nhap hai canh hcn\").split())\n",
    "print(f'Dien tich hcn: {x*y}')\n",
    "print(f'Chu vi hcn: {(x+y)*2}')"
   ]
  },
  {
   "cell_type": "code",
   "execution_count": 3,
   "id": "aa6bbab2-b9a1-400f-af28-28c244568067",
   "metadata": {},
   "outputs": [
    {
     "name": "stdin",
     "output_type": "stream",
     "text": [
      "Nhap ban kinh 3\n"
     ]
    },
    {
     "name": "stdout",
     "output_type": "stream",
     "text": [
      "Dien tich hinh tron: 28.26\n",
      "Chu vi hinh tron: 18.84\n"
     ]
    }
   ],
   "source": [
    "#Bài 2: Nhập vào bán kính của hình tròn. In ra màn hình diện tích và chu vi của nó. \n",
    "r=float(input(\"Nhap ban kinh\"))\n",
    "print(f'Dien tich hinh tron: {r**2*3.14}')\n",
    "print(f'Chu vi hinh tron: {2*r*3.14}')"
   ]
  },
  {
   "cell_type": "code",
   "execution_count": 5,
   "id": "9d2b4541-94bd-47c0-9a32-21b3cc3883ee",
   "metadata": {},
   "outputs": [
    {
     "name": "stdin",
     "output_type": "stream",
     "text": [
      "Nhap ba canh tam giac: 3 4 5\n"
     ]
    },
    {
     "name": "stdout",
     "output_type": "stream",
     "text": [
      "Tam giac vuong\n",
      "Dien tich tam giac: 6.0\n",
      "Chu vi tam giac: 12.0\n"
     ]
    }
   ],
   "source": [
    "#Bài 3 : Tính tam giác: Nhâp vào ba số a,b,c bất kì. \n",
    "#    Kiểm tra xem nó có thể là độ dài ba cạnh hay không, nếu không thì in ra màn hình 'Khong la ba canh cua mot tam giac'. \n",
    "#    Ngược lại, kiểm tra xem nó là tam giác gì: Đều, Cân, Vuông, hay Tam giác thường. \n",
    "#    Tính diện tích, chu vi của tam giác và in ra màn hình.\n",
    "a, b, c=map(float, input(\"Nhap ba canh tam giac:\").split())\n",
    "if (a+b>c) and (a+c>b) and (b+c>a):\n",
    "    if a==b==c:\n",
    "        print(\"Tam giac deu\")\n",
    "    elif a==b or b==c or a==c:\n",
    "        print(\"Tam giac can\")\n",
    "    elif (a**2+b**2==c**2) or (a**2+c**2==b**2) or (b**2+c**2==a**2):\n",
    "        print(\"Tam giac vuong\")\n",
    "    else:print(\"Tam giac thuong\")\n",
    "    p=(a+b+c)/2\n",
    "    S=p*(p-a)*(p-b)*(p-c)\n",
    "    S=S**(1/2)\n",
    "    print(f'Dien tich tam giac: {S}')\n",
    "    print(f'Chu vi tam giac: {p*2}')\n",
    "else: print(\"Khong la ba canh cua mot tam giac\")"
   ]
  },
  {
   "cell_type": "code",
   "execution_count": 2,
   "id": "96e06f40-f163-4457-9944-02b7e4e0918d",
   "metadata": {},
   "outputs": [
    {
     "name": "stdin",
     "output_type": "stream",
     "text": [
      "Nhap a: 0\n",
      "Nhap b: 0\n"
     ]
    },
    {
     "name": "stdout",
     "output_type": "stream",
     "text": [
      "Vô số nghiệm\n"
     ]
    }
   ],
   "source": [
    "#Bài 4: Viết chương trình giải phương trình bậc 1 (ax + b = 0) \n",
    "a=float(input(\"Nhap a:\"))\n",
    "b=float(input(\"Nhap b:\"))\n",
    "if a == 0:\n",
    "    if b == 0:\n",
    "        print(\"Vô số nghiệm\")\n",
    "    else:\n",
    "        print(\"Vô nghiệm\")\n",
    "else:print(f'Nghiem cua phuong trinh bac 1: {-b/a}')\n"
   ]
  },
  {
   "cell_type": "code",
   "execution_count": 15,
   "id": "f0d8678f-0803-44d1-a34f-d727053abce1",
   "metadata": {},
   "outputs": [
    {
     "name": "stdin",
     "output_type": "stream",
     "text": [
      "Nhap a, b, c: 1 -1 -9\n"
     ]
    },
    {
     "name": "stdout",
     "output_type": "stream",
     "text": [
      "Phuong trinh co hai nghiem phan biet: 3.5413812651491097 va -2.5413812651491097\n"
     ]
    }
   ],
   "source": [
    "#Bài 5: Viết chương trình giải phương trình bậc 2 (ax^2 + bx + c = 0)\n",
    "a, b, c=map(float, input(\"Nhap a, b, c:\").split())\n",
    "delta=(b**2)-(4*a*c)\n",
    "if delta==0:\n",
    "    delta=delta**(1/2)\n",
    "    print(f'Phuong trinh co mot nghiem kep: {(-b)/2*a}')\n",
    "elif delta<0:\n",
    "    print(f'Phuong trinh vo nghiem')\n",
    "else:\n",
    "    delta=delta**(1/2)\n",
    "    print(f'Phuong trinh co hai nghiem phan biet: {(-b+delta)/(2*a)} va {(-b-delta)/(2*a)}')"
   ]
  },
  {
   "cell_type": "code",
   "execution_count": 16,
   "id": "af689d0b-085f-4346-8d55-9161ed96e682",
   "metadata": {},
   "outputs": [
    {
     "name": "stdin",
     "output_type": "stream",
     "text": [
      "Nhap 4 so: 3 9 7 8\n"
     ]
    },
    {
     "name": "stdout",
     "output_type": "stream",
     "text": [
      "Gia tri lon nhat la: 9.0\n"
     ]
    }
   ],
   "source": [
    "#Bài 6: Tìm giá trị lớn nhất trong 4 số a, b, c, d (a, b, c, d được nhập từ bàn phím). \n",
    "a, b, c, d=map(float, input(\"Nhap 4 so:\").split())\n",
    "max_=a\n",
    "if max_<b: max_=b\n",
    "if max_<c: max_=c\n",
    "if max_<d: max_=d\n",
    "print(f'Gia tri lon nhat la: {max_}')"
   ]
  },
  {
   "cell_type": "code",
   "execution_count": 17,
   "id": "36c74d37-60f1-4a22-8716-89371b1ca0c7",
   "metadata": {},
   "outputs": [
    {
     "name": "stdin",
     "output_type": "stream",
     "text": [
      "Nhap 4 so: 4 1 8 10\n"
     ]
    },
    {
     "name": "stdout",
     "output_type": "stream",
     "text": [
      "Gia tri nho nhat la: 1.0\n"
     ]
    }
   ],
   "source": [
    "#Bài 7: Tìm giá trị nhỏ nhất trong 4 số a, b, c, d (a, b, c, d được nhập từ bàn phím). \n",
    "a, b, c, d=map(float, input(\"Nhap 4 so:\").split())\n",
    "min_=a\n",
    "if min_>b: min_=b\n",
    "if min_>c: min_=c\n",
    "if min_>d: min_=d\n",
    "print(f'Gia tri nho nhat la: {min_}')"
   ]
  },
  {
   "cell_type": "code",
   "execution_count": 3,
   "id": "2a8a80bd-3c21-4321-95dc-3fee5bf25e12",
   "metadata": {},
   "outputs": [
    {
     "name": "stdin",
     "output_type": "stream",
     "text": [
      "Nhap a, b, m 1 2 3\n",
      "Nhap c, d, n 5 6 7\n"
     ]
    },
    {
     "name": "stdout",
     "output_type": "stream",
     "text": [
      "x=-1.0000000000000009 \n",
      "y=2.0000000000000004\n"
     ]
    }
   ],
   "source": [
    "#Bài 8: Giải hệ phương trình tuyến tính:\n",
    "#ax + by = m\n",
    "#cx + dy = n\n",
    "a, b, m=map(float, input(\"Nhap a, b, m\").split())\n",
    "c, d, n=map(float, input(\"Nhap c, d, n\").split())\n",
    "k=a/c\n",
    "y=(k*n-m)/(k*d-b)\n",
    "x=(m-b*y)/a\n",
    "print(f'x={x} \\ny={y}')"
   ]
  },
  {
   "cell_type": "code",
   "execution_count": 5,
   "id": "e81b35a4-52e5-4ddc-b991-fe743ff27019",
   "metadata": {},
   "outputs": [
    {
     "name": "stdin",
     "output_type": "stream",
     "text": [
      " 10000\n"
     ]
    },
    {
     "name": "stdout",
     "output_type": "stream",
     "text": [
      "Thoi gian: 2 gio 46 phut 40 giay\n"
     ]
    }
   ],
   "source": [
    "#Bài 9: Nhập vào thời gian 1 công việc nào đó là x giây. Hãy chuyển đổi và viết ra \n",
    "#màn hình số thời gian trên dưới dạng bằng bao nhiêu giờ, bao nhiêu phút, bao nhiêu \n",
    "#giây. \n",
    "s=int(input())\n",
    "m=0\n",
    "h=0\n",
    "if s>=60:\n",
    "    m=s//60\n",
    "    s=s%60\n",
    "if m>=60:\n",
    "    h=m//60\n",
    "    m=m%60\n",
    "print(f'Thoi gian: {h} gio {m} phut {s} giay')"
   ]
  },
  {
   "cell_type": "code",
   "execution_count": 7,
   "id": "1a0a7c5d-3273-4695-b36a-4aaf5353a426",
   "metadata": {},
   "outputs": [
    {
     "name": "stdout",
     "output_type": "stream",
     "text": [
      "Ta co tam duong tron la: I (a,b)\n"
     ]
    },
    {
     "name": "stdin",
     "output_type": "stream",
     "text": [
      "Nhap a va b: 0 0\n",
      "Nhap ban kinh: 5\n"
     ]
    },
    {
     "name": "stdout",
     "output_type": "stream",
     "text": [
      "Ta co mot diem A(x, y)\n"
     ]
    },
    {
     "name": "stdin",
     "output_type": "stream",
     "text": [
      "Nhap x va y: 0 5\n"
     ]
    },
    {
     "name": "stdout",
     "output_type": "stream",
     "text": [
      "A thuoc duong tron\n"
     ]
    }
   ],
   "source": [
    "#Bài 10: Nhập vào tâm và bán kính của một đường tròn. \n",
    "#Sau đó nhập vào một điểm A(x, y) bất kì và kiểm tra xem nó có thuộc đường tròn hay không?\n",
    "#(x-a)^2+(y-b)^2=r^2\n",
    "import math\n",
    "print(\"Ta co tam duong tron la: I (a,b)\")\n",
    "a, b=map(float, input(\"Nhap a va b:\").split())\n",
    "r=float(input(\"Nhap ban kinh:\"))\n",
    "print (\"Ta co mot diem A(x, y)\")\n",
    "x, y=map(float, input(\"Nhap x va y:\").split())\n",
    "equation=(x-a)**2+(y-b)**2\n",
    "r=r**2\n",
    "if math.isclose(equation, r):\n",
    "    print(\"A thuoc duong tron\")\n",
    "else: print(\"A khong thuoc duong tron\")\n"
   ]
  },
  {
   "cell_type": "code",
   "execution_count": 16,
   "id": "ceb5d86f-7a69-4c7d-af43-e4749f6d43da",
   "metadata": {},
   "outputs": [
    {
     "name": "stdin",
     "output_type": "stream",
     "text": [
      "Nhap x va y: 4 6\n"
     ]
    },
    {
     "name": "stdout",
     "output_type": "stream",
     "text": [
      "x**y=4096.0\n"
     ]
    }
   ],
   "source": [
    "#Bài 11: Tính x^y (Với x, y là số thực).\n",
    "try:\n",
    "    x, y=map(float, input(\"Nhap x va y:\").split())\n",
    "    print(f'x**y={x**y}')\n",
    "except ValueError as er:\n",
    "    print(\"Error:\", er)\n",
    "except ZeroDivisionError as ve:\n",
    "    print(\"Error:\", ve)\n"
   ]
  }
 ],
 "metadata": {
  "kernelspec": {
   "display_name": "Python 3 (ipykernel)",
   "language": "python",
   "name": "python3"
  },
  "language_info": {
   "codemirror_mode": {
    "name": "ipython",
    "version": 3
   },
   "file_extension": ".py",
   "mimetype": "text/x-python",
   "name": "python",
   "nbconvert_exporter": "python",
   "pygments_lexer": "ipython3",
   "version": "3.13.7"
  }
 },
 "nbformat": 4,
 "nbformat_minor": 5
}
