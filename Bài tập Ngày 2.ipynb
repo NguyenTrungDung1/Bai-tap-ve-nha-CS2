{
 "cells": [
  {
   "cell_type": "code",
   "execution_count": 5,
   "id": "4e8a4435-1b7a-4554-99d9-d55e2606e82b",
   "metadata": {},
   "outputs": [
    {
     "name": "stdin",
     "output_type": "stream",
     "text": [
      " 9\n"
     ]
    },
    {
     "name": "stdout",
     "output_type": "stream",
     "text": [
      "It's an integer!\n"
     ]
    }
   ],
   "source": [
    "def handle(value):\n",
    "    match value:\n",
    "        case int():\n",
    "            print(\"It's an integer!\")\n",
    "        case str():\n",
    "            print(\"It's a string!\")\n",
    "        case list():\n",
    "            print(\"It's a list!\")\n",
    "x=int(input())\n",
    "handle(x)"
   ]
  },
  {
   "cell_type": "code",
   "execution_count": null,
   "id": "856155fb-853c-4eff-a56c-65de3a788134",
   "metadata": {},
   "outputs": [],
   "source": []
  }
 ],
 "metadata": {
  "kernelspec": {
   "display_name": "Python 3 (ipykernel)",
   "language": "python",
   "name": "python3"
  },
  "language_info": {
   "codemirror_mode": {
    "name": "ipython",
    "version": 3
   },
   "file_extension": ".py",
   "mimetype": "text/x-python",
   "name": "python",
   "nbconvert_exporter": "python",
   "pygments_lexer": "ipython3",
   "version": "3.13.7"
  }
 },
 "nbformat": 4,
 "nbformat_minor": 5
}
