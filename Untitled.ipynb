{
 "cells": [
  {
   "cell_type": "code",
   "execution_count": 6,
   "id": "a380f5cb-8fa2-4646-b2ef-357ec15675de",
   "metadata": {},
   "outputs": [
    {
     "name": "stdin",
     "output_type": "stream",
     "text": [
      " 5\n"
     ]
    },
    {
     "name": "stdout",
     "output_type": "stream",
     "text": [
      "1 2 3 4 5 \n",
      "15\n"
     ]
    }
   ],
   "source": [
    "#Bai 1\n",
    "#Tinh tong cac so nguyen tu 1 den n\n",
    "n=int(input())\n",
    "Sum=0\n",
    "for i in range(1, n+1, 1):\n",
    "    print(i, end=' ')\n",
    "    Sum+=i\n",
    "print(f'\\n{Sum}')"
   ]
  },
  {
   "cell_type": "code",
   "execution_count": null,
   "id": "343a14e1-0a3b-431d-8efb-fca6a9506c81",
   "metadata": {},
   "outputs": [],
   "source": [
    "nếu range có 1 tham số: stop (start mặc định là 0, step:1)\n",
    "nếu range có 2 tham số: start và stop (step:1)\n",
    "nếu range có 3 tham số: start, stop và step"
   ]
  },
  {
   "cell_type": "code",
   "execution_count": 9,
   "id": "a9f2ffc3-fa70-4834-95fe-c1affe7521fa",
   "metadata": {},
   "outputs": [
    {
     "name": "stdin",
     "output_type": "stream",
     "text": [
      " df\n"
     ]
    },
    {
     "name": "stdout",
     "output_type": "stream",
     "text": [
      "Ban nhap khong phai la mot so nguyen\n"
     ]
    }
   ],
   "source": [
    "#Bai 1: Bat loi nhap lieu\n",
    "try:\n",
    "    n=int(input())\n",
    "    if (n>0):\n",
    "        Sum=0\n",
    "        for i in range (1,n+1,1):\n",
    "            print(i, end=' ')\n",
    "            Sum+=i\n",
    "        print(f'\\n{Sum}')\n",
    "    else:\n",
    "        print(\"Nhap so am mat roi\")\n",
    "except ValueError:\n",
    "    print(\"Ban nhap khong phai la mot so nguyen\")"
   ]
  },
  {
   "cell_type": "code",
   "execution_count": null,
   "id": "e77f971b-2106-4f5b-98c0-73c0ab4fdafa",
   "metadata": {},
   "outputs": [],
   "source": []
  }
 ],
 "metadata": {
  "kernelspec": {
   "display_name": "Python 3 (ipykernel)",
   "language": "python",
   "name": "python3"
  },
  "language_info": {
   "codemirror_mode": {
    "name": "ipython",
    "version": 3
   },
   "file_extension": ".py",
   "mimetype": "text/x-python",
   "name": "python",
   "nbconvert_exporter": "python",
   "pygments_lexer": "ipython3",
   "version": "3.13.7"
  }
 },
 "nbformat": 4,
 "nbformat_minor": 5
}
