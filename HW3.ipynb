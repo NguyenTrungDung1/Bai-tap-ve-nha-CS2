{
 "cells": [
  {
   "cell_type": "code",
   "execution_count": 1,
   "id": "88ebf7e2-6b0d-4bf9-bf7f-bdaa9893e6bb",
   "metadata": {},
   "outputs": [
    {
     "name": "stdout",
     "output_type": "stream",
     "text": [
      "1 3 5 7 9 11 13 15 17 19 21 23 25 27 29 31 33 35 37 39 41 43 45 47 49 51 53 55 57 59 61 63 65 67 69 71 73 75 77 79 81 83 85 87 89 91 93 95 97 99 "
     ]
    }
   ],
   "source": [
    "#Bài 1: In các số dương lẻ bé hơn 100 \n",
    "for i in range (1, 100):\n",
    "    if i % 2 != 0:\n",
    "        print (i, end =' ')"
   ]
  },
  {
   "cell_type": "code",
   "execution_count": 1,
   "id": "c963a440-6efa-4787-88be-85424d1b333c",
   "metadata": {},
   "outputs": [
    {
     "name": "stdout",
     "output_type": "stream",
     "text": [
      "6 12 18 24 30 36 42 48 54 60 66 72 78 84 90 96 "
     ]
    }
   ],
   "source": [
    "#Bài 2: In các số dương chẵn chia hết cho 3 bé hơn 100\n",
    "for i in range (2, 100, 2):\n",
    "    if i % 3 == 0:\n",
    "        print (i, end = ' ')"
   ]
  },
  {
   "cell_type": "code",
   "execution_count": 4,
   "id": "af1a6553-1857-45de-9820-85025631102e",
   "metadata": {},
   "outputs": [
    {
     "name": "stdin",
     "output_type": "stream",
     "text": [
      "Nhập vào một số nguyên dương:  3\n"
     ]
    },
    {
     "name": "stdout",
     "output_type": "stream",
     "text": [
      "Bảng cửu chương của 3:\n",
      "3 x 1 = 3\n",
      "3 x 2 = 6\n",
      "3 x 3 = 9\n",
      "3 x 4 = 12\n",
      "3 x 5 = 15\n",
      "3 x 6 = 18\n",
      "3 x 7 = 21\n",
      "3 x 8 = 24\n",
      "3 x 9 = 27\n"
     ]
    }
   ],
   "source": [
    "#Bài 3: Nhập vào số nguyên dương a, in ra bảng cửu chương của a\n",
    "a = int(input(\"Nhập vào một số nguyên dương: \"))\n",
    "\n",
    "if a > 0:\n",
    "    print(f\"Bảng cửu chương của {a}:\")\n",
    "    for i in range(1, 10):\n",
    "        print(f\"{a} x {i} = {a * i}\")\n",
    "else:\n",
    "    print(\"Vui lòng nhập một số nguyên dương!\")"
   ]
  },
  {
   "cell_type": "code",
   "execution_count": 11,
   "id": "cda1956f-0259-49ce-b746-d6c98f4cce63",
   "metadata": {},
   "outputs": [
    {
     "name": "stdin",
     "output_type": "stream",
     "text": [
      "Nhap chieu cao tam giac: 4\n"
     ]
    },
    {
     "name": "stdout",
     "output_type": "stream",
     "text": [
      "   *\n",
      "  * *\n",
      " *   *\n",
      "*******\n"
     ]
    }
   ],
   "source": [
    "#Bài 4: Viết chương trình in ra hình tam giác cân có độ cao h được nhập từ bàn phím\n",
    "h = int(input(\"Nhap chieu cao tam giac:\"))\n",
    "for i in range (h):\n",
    "    print(' ' * (h - i - 1), end ='')\n",
    "    if i == h-1:\n",
    "        print('*' * (2*i +1))\n",
    "    elif i > 0:\n",
    "        print (\"*\", end =' ' * (2*i-1))\n",
    "        print ('*')\n",
    "    else:\n",
    "        print ('*')"
   ]
  },
  {
   "cell_type": "code",
   "execution_count": 15,
   "id": "e249cfe3-6a72-45bd-b866-137e214b29b3",
   "metadata": {},
   "outputs": [
    {
     "name": "stdin",
     "output_type": "stream",
     "text": [
      " -5\n"
     ]
    },
    {
     "name": "stdout",
     "output_type": "stream",
     "text": [
      "S = 0\n"
     ]
    }
   ],
   "source": [
    "#Bài 5: Nhập vào số nguyên dương n. Tính S = 1 + 2 + 3 + 4 + … + n \n",
    "n = int(input())\n",
    "S = 0\n",
    "for i in range (1, n+1):\n",
    "    S += i\n",
    "print (f'S = {S}')"
   ]
  },
  {
   "cell_type": "code",
   "execution_count": 5,
   "id": "fe5e0a98-69d5-4a8b-8493-c8a198ddd0a6",
   "metadata": {},
   "outputs": [
    {
     "name": "stdin",
     "output_type": "stream",
     "text": [
      " 15\n"
     ]
    },
    {
     "name": "stdout",
     "output_type": "stream",
     "text": [
      "1 3 5 15 "
     ]
    }
   ],
   "source": [
    "#Bài 6: Nhập vào số nguyên dương a, in ra tất cả các ước dương của a \n",
    "a = int(input())\n",
    "if a > 0:\n",
    "    for i in range (1, a + 1):\n",
    "        if a % i == 0:\n",
    "            print (i, end = ' ')\n",
    "else:\n",
    "    print(\"Nhap lai\")"
   ]
  },
  {
   "cell_type": "code",
   "execution_count": 6,
   "id": "b563c022-a57c-4449-8ea8-ece93bfd9241",
   "metadata": {},
   "outputs": [
    {
     "name": "stdin",
     "output_type": "stream",
     "text": [
      " 15\n"
     ]
    },
    {
     "name": "stdout",
     "output_type": "stream",
     "text": [
      "4\n"
     ]
    }
   ],
   "source": [
    "#Bài 7: Nhập vào số nguyên dương a, đếm số ước dương của a\n",
    "a = int(input())\n",
    "if a > 0:\n",
    "    count = 0\n",
    "    for i in range (1, a+1):\n",
    "        if a % i == 0:\n",
    "            count += 1\n",
    "    print (count)\n",
    "else: print (\"Nhap lai\")"
   ]
  },
  {
   "cell_type": "code",
   "execution_count": 4,
   "id": "c02d68ff-dd77-4863-8d2d-212fc3628b16",
   "metadata": {},
   "outputs": [
    {
     "name": "stdin",
     "output_type": "stream",
     "text": [
      "Nhap a va b: -5 8\n"
     ]
    },
    {
     "name": "stdout",
     "output_type": "stream",
     "text": [
      "Nhap lai\n"
     ]
    },
    {
     "name": "stdin",
     "output_type": "stream",
     "text": [
      "Nhap a va b: 100 500\n"
     ]
    },
    {
     "name": "stdout",
     "output_type": "stream",
     "text": [
      "1 2 4 5 10 20 25 50 100 "
     ]
    }
   ],
   "source": [
    "#Bài 8: Nhập vào số nguyên dương a và b, in toàn bộ ước dương chung của a và b \n",
    "while True:\n",
    "    a, b = map(int, input(\"Nhap a va b:\").split())\n",
    "    if a > 0 and b > 0:\n",
    "        break\n",
    "    print (\"Nhap lai\")\n",
    "if a >= b:\n",
    "    for i in range (1, b+1):\n",
    "        if a % i == 0 and b % i == 0:\n",
    "            print (i, end=' ')\n",
    "if b > a:\n",
    "    for i in range (1, a+1):\n",
    "        if a % i == 0 and b % i == 0:\n",
    "            print (i, end=' ')"
   ]
  },
  {
   "cell_type": "code",
   "execution_count": 7,
   "id": "31527dc7-e14c-4d5d-b6e8-6465264954c9",
   "metadata": {},
   "outputs": [
    {
     "name": "stdin",
     "output_type": "stream",
     "text": [
      " 25\n"
     ]
    },
    {
     "name": "stdout",
     "output_type": "stream",
     "text": [
      "25 la so chinh phuong\n"
     ]
    }
   ],
   "source": [
    "#Bài 9: Nhập vào số nguyên dương a, kiểm tra xem a có phải là số chính phương hay\n",
    "#không? Số chính phương là số có căn bậc hai là một số nguyên VD: 1, 4, 9, 16, 25…. \n",
    "while True:\n",
    "    a = int(input())\n",
    "    if a > 0:\n",
    "        break\n",
    "    print (\"Nhap lai\")\n",
    "n = a**0.5\n",
    "if n == int(n):\n",
    "    print (f'{a} la so chinh phuong')\n",
    "else:\n",
    "    print(f'{a} khong la so chinh phuong')"
   ]
  },
  {
   "cell_type": "code",
   "execution_count": 10,
   "id": "61ec1f6f-d80a-47c6-9f10-a5e1693df87b",
   "metadata": {},
   "outputs": [
    {
     "name": "stdin",
     "output_type": "stream",
     "text": [
      " 28\n"
     ]
    },
    {
     "name": "stdout",
     "output_type": "stream",
     "text": [
      "28 la so hoan hao\n"
     ]
    }
   ],
   "source": [
    "#Bài 10: Nhập vào số nguyên dương a, kiểm tra xem a có phải là số hoàn hảo hay không.\n",
    "#Số hoàn hảo là số có tổng các ước (ước nhỏ hơn nó) bằng chính nó, VD: số 6, 28… \n",
    "while True:\n",
    "    a = int(input())\n",
    "    if a > 0:\n",
    "        break\n",
    "    print(\"Nhap lai\")\n",
    "tong = 0\n",
    "for i in range (1, a):\n",
    "    if a % i == 0:\n",
    "        tong += i\n",
    "if tong == a:\n",
    "    print (f'{a} la so hoan hao')\n",
    "else:\n",
    "    print (f'{a} khong la so hoan hao')"
   ]
  },
  {
   "cell_type": "code",
   "execution_count": 13,
   "id": "e78ad4bb-69ab-407f-89a8-f8c70b4a3a8d",
   "metadata": {},
   "outputs": [
    {
     "name": "stdin",
     "output_type": "stream",
     "text": [
      " -9\n"
     ]
    },
    {
     "name": "stdout",
     "output_type": "stream",
     "text": [
      "Nhập số dương\n"
     ]
    },
    {
     "name": "stdin",
     "output_type": "stream",
     "text": [
      " 6\n"
     ]
    },
    {
     "name": "stdout",
     "output_type": "stream",
     "text": [
      "Bạn nhập đúng quy tắc\n"
     ]
    }
   ],
   "source": [
    "#Bài 11: Nhập vào số nguyên a, nếu nhập số âm thì yêu cầu nhập lại cho đến khi người\n",
    "#dùng nhập đúng số dương. Nếu người dùng nhập đúng số dương thì in ra “Bạn nhập\n",
    "#đúng quy tắc” và dừng chương trình.\n",
    "while True:\n",
    "    a = int(input())\n",
    "    if a >= 0:\n",
    "        print (\"Bạn nhập đúng quy tắc\")\n",
    "        break\n",
    "    print (\"Nhập số dương\")"
   ]
  },
  {
   "cell_type": "code",
   "execution_count": 17,
   "id": "a47e44b3-4162-45cb-8e71-4cf27c6ba8ee",
   "metadata": {},
   "outputs": [
    {
     "name": "stdin",
     "output_type": "stream",
     "text": [
      " 8\n"
     ]
    },
    {
     "name": "stdout",
     "output_type": "stream",
     "text": [
      "k la: 3\n"
     ]
    }
   ],
   "source": [
    "#Bài 12: Nhập số nguyên dương n, Cho S(k) = 1 + 2 + 3 + … + k. Tìm k sao cho S(k)\n",
    "#lớn nhất nhưng nhỏ hơn n \n",
    "while True:\n",
    "    n = int(input())\n",
    "    if n > 0:\n",
    "        break\n",
    "    print(\"Nhap lai\")\n",
    "S = 0\n",
    "k = 0\n",
    "for i in range (1, n):\n",
    "    if (S + i) < n:\n",
    "        k = i\n",
    "        S = S + i\n",
    "    else:\n",
    "        break\n",
    "print(f'k la: {k}')"
   ]
  },
  {
   "cell_type": "code",
   "execution_count": 23,
   "id": "dd4ef999-4022-4ac2-b22e-0b1f38919628",
   "metadata": {},
   "outputs": [
    {
     "name": "stdin",
     "output_type": "stream",
     "text": [
      " 3\n"
     ]
    },
    {
     "name": "stdout",
     "output_type": "stream",
     "text": [
      "n nho nhat la: 11\n"
     ]
    }
   ],
   "source": [
    "#Bài 13: Nhập vào số nguyên dương A, tìm n nhỏ nhất sao cho\n",
    "#1 + 1/2 + 1/3 + 1/4 + ... + 1/n > A\n",
    "while True:\n",
    "    A = int(input())\n",
    "    if A > 0:\n",
    "        break\n",
    "    print (\"Nhap lai\")\n",
    "tong = 0\n",
    "n = 1\n",
    "while True:\n",
    "    if tong > A:\n",
    "        break   \n",
    "    tong += (1/n)\n",
    "    n += 1\n",
    "print (f'n nho nhat la: {n-1}')"
   ]
  },
  {
   "cell_type": "code",
   "execution_count": 24,
   "id": "0b54d110-71e3-4734-a8c9-38a34217e56d",
   "metadata": {},
   "outputs": [
    {
     "name": "stdin",
     "output_type": "stream",
     "text": [
      " 4\n",
      " 5\n",
      " 6\n",
      " 9\n",
      " -7\n",
      " -1\n"
     ]
    },
    {
     "name": "stdout",
     "output_type": "stream",
     "text": [
      "Số lớn nhất là: 9\n",
      "Số nhỏ nhất là: -7\n"
     ]
    }
   ],
   "source": [
    "#Bài 14: Nhập vào một dãy số nguyên, dừng nhập khi người dùng nhập -1. Sau khi nhập\n",
    "#xong, in số lớn nhất, số nhỏ nhất trong những số vừa nhập. KHÔNG ĐƯỢC dùng mảng\n",
    "max_ = -1\n",
    "min_ = -1\n",
    "while True:\n",
    "    n = int (input())\n",
    "    if n == -1:\n",
    "        break\n",
    "    if n > max_:\n",
    "        max_ = n\n",
    "    if n < min_:\n",
    "        min_ = n\n",
    "print(f'Số lớn nhất là: {max_}')\n",
    "print(f'Số nhỏ nhất là: {min_}')"
   ]
  },
  {
   "cell_type": "code",
   "execution_count": 8,
   "id": "3b0ad1e9-4852-479c-9d0f-a1a860d62301",
   "metadata": {},
   "outputs": [
    {
     "name": "stdin",
     "output_type": "stream",
     "text": [
      " 12345678\n"
     ]
    },
    {
     "name": "stdout",
     "output_type": "stream",
     "text": [
      "12345678 có 8 chữ số\n"
     ]
    }
   ],
   "source": [
    "#Bài 15: Nhập vào số nguyên dương n, đếm xem n có bao nhiêu chữ số. Làm bằng nhiều\n",
    "#cách nhất có thể, ko dùng mảng. \n",
    "while True:\n",
    "    n = int(input())\n",
    "    if n > 0:\n",
    "        break\n",
    "    print (\"Nhap lai\")\n",
    "count = 0\n",
    "a = n\n",
    "while True:\n",
    "    a = a // 10\n",
    "    count += 1\n",
    "    if a == 0:\n",
    "        break\n",
    "print(f'{n} có {count} chữ số')"
   ]
  },
  {
   "cell_type": "code",
   "execution_count": 13,
   "id": "b43c82a0-7a25-4f6a-8161-49e19f0e4fcb",
   "metadata": {},
   "outputs": [
    {
     "name": "stdin",
     "output_type": "stream",
     "text": [
      " 333334455566\n"
     ]
    },
    {
     "name": "stdout",
     "output_type": "stream",
     "text": [
      "333334455566 có 4 số chẵn và 8 số lẻ\n"
     ]
    }
   ],
   "source": [
    "#Bài 16: Nhập vào số nguyên dương n, đếm xem n có bao nhiêu chữ số chẵn, bao nhiêu\n",
    "#chữ số lẻ\n",
    "while True:\n",
    "    n = int(input())\n",
    "    if n > 0:\n",
    "        break\n",
    "    print(\"Nhap lai\")\n",
    "even = 0\n",
    "odd = 0\n",
    "a = n\n",
    "while True:\n",
    "    if a == 0:\n",
    "        break\n",
    "    b = a % 10\n",
    "    a = a // 10\n",
    "    if b % 2 == 0:\n",
    "        even += 1\n",
    "    if b % 2 != 0:\n",
    "        odd += 1\n",
    "print(f'{n} có {even} số chẵn và {odd} số lẻ')"
   ]
  },
  {
   "cell_type": "code",
   "execution_count": 3,
   "id": "7e7f74db-cc78-48e4-813f-7e9584ae2fc8",
   "metadata": {},
   "outputs": [
    {
     "name": "stdin",
     "output_type": "stream",
     "text": [
      " 12345\n"
     ]
    },
    {
     "name": "stdout",
     "output_type": "stream",
     "text": [
      " Tổng các chữ số của 12345 là: 5\n"
     ]
    }
   ],
   "source": [
    "#Bài 17: Nhập vào số nguyên dương n, tính tổng các chữ số của n\n",
    "while True:\n",
    "    n = int(input())\n",
    "    if n > 0:\n",
    "        break\n",
    "    print (\"Nhap lai\")\n",
    "count = 0\n",
    "a = n\n",
    "while True:\n",
    "    if a == 0:\n",
    "        break\n",
    "    a = a // 10\n",
    "    count += 1\n",
    "print (f' Tổng các chữ số của {n} là: {count}')"
   ]
  },
  {
   "cell_type": "code",
   "execution_count": 10,
   "id": "b179fe91-34b2-43fc-a8bf-ee6122061990",
   "metadata": {},
   "outputs": [
    {
     "name": "stdin",
     "output_type": "stream",
     "text": [
      " 81\n"
     ]
    },
    {
     "name": "stdout",
     "output_type": "stream",
     "text": [
      "81 là số dạng 3^k\n"
     ]
    }
   ],
   "source": [
    "#Bài 18: Nhập vào một số nguyên dương n, kiểm tra xem n có phải là số dạng 3^k hay\n",
    "#không \n",
    "while True:\n",
    "    n = int(input())\n",
    "    if n > 0:\n",
    "        break\n",
    "    print (\"Nhap lai\")\n",
    "a = n\n",
    "while a % 3 == 0:\n",
    "    a //= 3\n",
    "if a == 1:\n",
    "    print(f'{n} là số dạng 3^k')\n",
    "else:\n",
    "    print (f'{n} không là số dạng 3^k')"
   ]
  },
  {
   "cell_type": "code",
   "execution_count": 26,
   "id": "29c6f5ad-c089-4407-82c0-eeba36ca2aac",
   "metadata": {},
   "outputs": [
    {
     "name": "stdin",
     "output_type": "stream",
     "text": [
      " 35\n"
     ]
    },
    {
     "name": "stdout",
     "output_type": "stream",
     "text": [
      "Số trong dãy số fibonacci lớn nhất nhưng không vượt quá 35 là: 34\n"
     ]
    }
   ],
   "source": [
    "#Bài 19: Dãy số fibonacci là dãy số được định nghĩa như sau: 1, 1, 2, 3, 5, 8, 13,... với số\n",
    "#kế tiếp sẽ bằng tổng hai số trước đó. Nhập vào số nguyên dương A, hãy tìm số trong\n",
    "#dãy số fibonacci lớn nhất nhưng không vượt quá A \n",
    "while True:\n",
    "    A = int(input())\n",
    "    if A > 0:\n",
    "        break\n",
    "    print (\"Nhap lai\")\n",
    "a = 1\n",
    "b = 1\n",
    "while True:\n",
    "    if (b+a) <= A:\n",
    "        b = b + a\n",
    "        a = b - a\n",
    "    else:\n",
    "        break\n",
    "print (f'Số trong dãy số fibonacci lớn nhất nhưng không vượt quá {A} là: {b}')"
   ]
  },
  {
   "cell_type": "code",
   "execution_count": 31,
   "id": "624ae49c-4ae2-445f-8a6f-643e4b3b7561",
   "metadata": {},
   "outputs": [
    {
     "name": "stdin",
     "output_type": "stream",
     "text": [
      " 123456789\n"
     ]
    },
    {
     "name": "stdout",
     "output_type": "stream",
     "text": [
      "123456789 có 4 chữ số là số nguyên tố\n"
     ]
    }
   ],
   "source": [
    "#Bài 20: Nhập vào số nguyên dương n, đếm xem n có bao nhiêu chữ số là số nguyên tố.\n",
    "while True:\n",
    "    n = int(input())\n",
    "    if n > 0:\n",
    "        break\n",
    "    print (\"Nhap lai\")\n",
    "count = 0\n",
    "a = n\n",
    "while True:\n",
    "    if a == 0:\n",
    "        break\n",
    "    b = a % 10\n",
    "    if b == 2 or b == 3 or b == 5 or b == 7:\n",
    "        count += 1\n",
    "    a //= 10\n",
    "print (f'{n} có {count} chữ số là số nguyên tố')"
   ]
  }
 ],
 "metadata": {
  "kernelspec": {
   "display_name": "Python 3 (ipykernel)",
   "language": "python",
   "name": "python3"
  },
  "language_info": {
   "codemirror_mode": {
    "name": "ipython",
    "version": 3
   },
   "file_extension": ".py",
   "mimetype": "text/x-python",
   "name": "python",
   "nbconvert_exporter": "python",
   "pygments_lexer": "ipython3",
   "version": "3.13.8"
  }
 },
 "nbformat": 4,
 "nbformat_minor": 5
}
