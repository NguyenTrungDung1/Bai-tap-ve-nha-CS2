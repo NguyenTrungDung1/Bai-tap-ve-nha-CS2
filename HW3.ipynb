{
 "cells": [
  {
   "cell_type": "code",
   "execution_count": 1,
   "id": "925c54fe-4353-42e3-97dc-9106288b10f8",
   "metadata": {},
   "outputs": [
    {
     "name": "stdin",
     "output_type": "stream",
     "text": [
      "a= 18\n",
      "b= 9\n"
     ]
    },
    {
     "name": "stdout",
     "output_type": "stream",
     "text": [
      "a=9 \n",
      "b=18\n"
     ]
    }
   ],
   "source": [
    "#W3A2\n",
    "#Hoán đổi hai số không sd biến tạm thời\n",
    "#Sử dụng phép toán XOR trên bit để hoán đổi giá trị của hai biến. \n",
    "a=int(input(\"a=\"))\n",
    "b=int(input(\"b=\"))\n",
    "a=a^b\n",
    "b=a^b\n",
    "a=a^b\n",
    "print(f'a={a} \\nb={b}')"
   ]
  },
  {
   "cell_type": "code",
   "execution_count": 12,
   "id": "0fc2b607-e3e7-44d3-9b18-62bc52522252",
   "metadata": {},
   "outputs": [
    {
     "name": "stdin",
     "output_type": "stream",
     "text": [
      "Nhap n: 0\n"
     ]
    },
    {
     "name": "stdout",
     "output_type": "stream",
     "text": [
      "0 khong la luy thua cua 2\n"
     ]
    }
   ],
   "source": [
    "#W3A3\n",
    "#Kiểm tra xem một số có phải là lũy thừa của 2 hay không\n",
    "#Sử dụng các toán tử bitwise để xác định xem một số có phải là lũy thừa của 2\n",
    "#hay không.\n",
    "#Gợi ý: Đối với lũy thừa của 2, n & (n-1) == 0\n",
    "n=int(input(\"Nhap n:\"))\n",
    "if n>0 and n&(n-1)==0:\n",
    "    print(f'{n} la luy thua cua 2')\n",
    "else:\n",
    "    print(f'{n} khong la luy thua cua 2')"
   ]
  },
  {
   "cell_type": "code",
   "execution_count": 21,
   "id": "6790d1e8-5cf8-48cc-a503-f1b52cc0e318",
   "metadata": {},
   "outputs": [
    {
     "name": "stdin",
     "output_type": "stream",
     "text": [
      "Nhap m va n: 10 4\n"
     ]
    },
    {
     "name": "stdout",
     "output_type": "stream",
     "text": [
      "10.0//4.0 = 2.0\n"
     ]
    }
   ],
   "source": [
    "#W3A4 Viêt chương trình chia một số m cho n, kết quả thu được làm tròn xuống\n",
    "m, n=map(float, input(\"Nhap m va n:\").split())\n",
    "if n!=0:print (f'{m}//{n} = {(m//n)}')\n",
    "else:print(\"n phai khac 0\")"
   ]
  },
  {
   "cell_type": "code",
   "execution_count": 22,
   "id": "ebc05ccb-a210-4412-870a-624420f3f324",
   "metadata": {},
   "outputs": [
    {
     "name": "stdin",
     "output_type": "stream",
     "text": [
      "Nhap m va n: 10 4\n"
     ]
    },
    {
     "name": "stdout",
     "output_type": "stream",
     "text": [
      "10.0/4.0 = 3\n"
     ]
    }
   ],
   "source": [
    "#W3A5 Viêt chương trình chia một số m cho n, kết quả thu được làm tròn lên\n",
    "import math\n",
    "m, n=map(float, input(\"Nhap m va n:\").split())\n",
    "if n!=0:\n",
    "    print(f'{m}/{n} = {math.ceil(m/n)}')\n",
    "else:\n",
    "    print(\"n phai khac 0\")"
   ]
  },
  {
   "cell_type": "code",
   "execution_count": 31,
   "id": "bcca57ab-0599-4b21-9728-715becd25c6f",
   "metadata": {},
   "outputs": [
    {
     "name": "stdin",
     "output_type": "stream",
     "text": [
      "Nhap mot so nguyen duong 7\n"
     ]
    },
    {
     "name": "stdout",
     "output_type": "stream",
     "text": [
      "Odd\n"
     ]
    }
   ],
   "source": [
    "#W3A6\n",
    "#[Even and Odd]\n",
    "#Nhập vào một số nguyên dương x, bạn hãy kiểm tra xem x là số chẵn hay lẻ.\n",
    "#Nếu x là số chẵn, in ra \"Even\". Nếu x là số lẻ, in ra \"Odd\". \n",
    "x=int(input(\"Nhap mot so nguyen duong\"))\n",
    "if x>0:\n",
    "    if x%2==0:\n",
    "        print(f'Even')\n",
    "    else: print(f'Odd')\n",
    "else:\n",
    "    print(\"Nhap so nguyen duong\")"
   ]
  },
  {
   "cell_type": "code",
   "execution_count": 30,
   "id": "4e2fa681-2613-47ea-8337-38d9f8947fc9",
   "metadata": {},
   "outputs": [
    {
     "name": "stdin",
     "output_type": "stream",
     "text": [
      "Nhap so nguyen a va b: -6 -9\n"
     ]
    },
    {
     "name": "stdout",
     "output_type": "stream",
     "text": [
      "Yes\n"
     ]
    }
   ],
   "source": [
    "#W3A7\n",
    "#[Check negative numbers]\n",
    "#Nhập vào hai số nguyên a, b. Nếu cả hai số a, b đều âm thì in ra \"Yes\", ngược lại in ra \"No\"\n",
    "a, b=map(int, input(\"Nhap so nguyen a va b:\").split())\n",
    "if a<0 and b<0:\n",
    "    print(\"Yes\")\n",
    "else:\n",
    "    print(\"No\")\n"
   ]
  },
  {
   "cell_type": "code",
   "execution_count": 36,
   "id": "c1d417c5-0b9f-47dc-9e41-a529a09374d3",
   "metadata": {},
   "outputs": [
    {
     "name": "stdin",
     "output_type": "stream",
     "text": [
      "Nhap hai chuoi a va b: okayhomie/nahbro\n"
     ]
    },
    {
     "name": "stdout",
     "output_type": "stream",
     "text": [
      "True\n"
     ]
    }
   ],
   "source": [
    "#W3A8\n",
    "#[Longer string]\n",
    "#Nhập vào hai chuỗi a, b gồm các chữ cái thường. In ra \"True\" nếu chuỗi a\n",
    "#dài hơn chuỗi b. Ngược lại in ra \"False\".\n",
    "a, b=input(\"Nhap hai chuoi a va b:\").split(\"/\")\n",
    "if a.isalpha() and b.isalpha():\n",
    "    if len(a)>len(b):print(\"True\")\n",
    "    else:print(\"False\")\n",
    "else:\n",
    "    print(\"Nhap chuoi gom cac chu cai thuong\")\n"
   ]
  },
  {
   "cell_type": "code",
   "execution_count": 41,
   "id": "3b6bcfe6-d501-4114-9718-6b4f55e952e1",
   "metadata": {},
   "outputs": [
    {
     "name": "stdin",
     "output_type": "stream",
     "text": [
      "nhap 3 ba canh tam giac: -10 2 3\n"
     ]
    },
    {
     "name": "stdout",
     "output_type": "stream",
     "text": [
      "No\n"
     ]
    }
   ],
   "source": [
    "#W3A9\n",
    "#[Triangle]\n",
    "#Nhập vào 3 số nguyên dương a, b, c. Kiểm tra xem a, b, c có cấu thành độ\n",
    "#dài cạnh của 1 tam giác được không. Nếu a, b, c cấu tạo thành được một tam\n",
    "#giác, in ra \"Yes\". Ngược lại in ra \"No\".\n",
    "a, b, c=map(int, input(\"nhap 3 ba canh tam giac:\").split())\n",
    "if a+b>c and a+c>b and b+c>a:\n",
    "    print(\"Yes\")\n",
    "else: print(\"No\")"
   ]
  },
  {
   "cell_type": "code",
   "execution_count": 42,
   "id": "3307a84a-3d26-482b-a1e6-90fe19b2d235",
   "metadata": {},
   "outputs": [
    {
     "name": "stdin",
     "output_type": "stream",
     "text": [
      "Nhap 4 so nguyen 4 5 8 1\n"
     ]
    },
    {
     "name": "stdout",
     "output_type": "stream",
     "text": [
      "8\n"
     ]
    }
   ],
   "source": [
    "#W3A10\n",
    "#[Largest number]\n",
    "#Nhập vào 4 số nguyên. In ra màn hình số nguyên lớn nhất trong 4 số.\n",
    "a, b, c, d=map(int, input(\"Nhap 4 so nguyen\").split())\n",
    "max_=a\n",
    "if max_<b: max_=b\n",
    "if max_<c: max_=c\n",
    "if max_<d: max_=d\n",
    "print(max_)\n"
   ]
  },
  {
   "cell_type": "code",
   "execution_count": 46,
   "id": "80135da4-da6d-457b-883f-484b9e844cd5",
   "metadata": {},
   "outputs": [
    {
     "name": "stdin",
     "output_type": "stream",
     "text": [
      "nhap 3 ba canh tam giac: 8 7 9\n"
     ]
    },
    {
     "name": "stdout",
     "output_type": "stream",
     "text": [
      "Tam giac thuong\n"
     ]
    }
   ],
   "source": [
    "#W3A11\n",
    "#[Phân loại tam giác]\n",
    "#Nhập vào 3 số nguyên dương a,b,c là độ dài 3 cạnh của một tam giác. Kiểm\n",
    "#tra 3 số đã nhập có tạo thành một tam giác hợp lệ hay không. Nếu không in\n",
    "#ra \"Không phải tam giác\". Nếu có, phân loại tam giác đó là \"Tam giác đều\",\n",
    "#\"Tam giác cân\", hay \"Tam giác thường\".\n",
    "a, b, c=map(int, input(\"nhap 3 ba canh tam giac:\").split())\n",
    "if a+b>c and a+c>b and b+c>a:\n",
    "    if a==b==c: print(\"Tam giac deu\")\n",
    "    elif a==b or b==c or a==c: print(\"Tam giac can\")\n",
    "    else: print(\"Tam giac thuong\")\n",
    "else: print(\"Khong phai tam giac\")"
   ]
  },
  {
   "cell_type": "code",
   "execution_count": 50,
   "id": "73ddf88b-8a5d-466b-9f44-7704975c2f83",
   "metadata": {},
   "outputs": [
    {
     "name": "stdin",
     "output_type": "stream",
     "text": [
      "Nhap nam: 1980\n"
     ]
    },
    {
     "name": "stdout",
     "output_type": "stream",
     "text": [
      "Yes\n"
     ]
    }
   ],
   "source": [
    "#W3A12\n",
    "#[Kiểm tra năm nhuận]\n",
    "#Nhập vào một số nguyên dương n là số năm, kiểm tra xem năm đó có phải là\n",
    "#năm nhuận hay không. Năm nhuận là năm chia hết cho 4 nhưng không chia\n",
    "#hết cho 100, hoặc chia hết cho 400. Nếu là năm nhuận in ra \"Yes\", nếu\n",
    "#không in ra \"No\"\n",
    "n=int(input(\"Nhap nam:\"))\n",
    "if n%400==0 or (n%4==0 and n%100!=0):\n",
    "    print(\"Yes\")\n",
    "else: print(\"No\")"
   ]
  },
  {
   "cell_type": "code",
   "execution_count": 54,
   "id": "0976e97b-d86e-48af-af42-34d8cd4c6edb",
   "metadata": {},
   "outputs": [
    {
     "name": "stdin",
     "output_type": "stream",
     "text": [
      "Nhap a va b: 4 -7\n"
     ]
    },
    {
     "name": "stdout",
     "output_type": "stream",
     "text": [
      "Nghiem cua phuong trinh: 1.75\n"
     ]
    }
   ],
   "source": [
    "#W3A14\n",
    "#[Giải phương trình bậc nhất]\n",
    "#Nhập vào hai số thực a và b của phương trình ax + b = 0. Tìm và in ra\n",
    "#nghiệm của phương trình, kết quả làm tròn đến số thập phân thứ 2. In ra \"Vô\n",
    "#nghiệm\" hoặc \"Vô số nghiệm\" trong trường hợp tương ứng.\n",
    "a, b=map(float, input(\"Nhap a va b:\").split())\n",
    "if a == 0:\n",
    "    if b == 0:\n",
    "        print(\"Vô số nghiệm\")\n",
    "    else:\n",
    "        print(\"Vô nghiệm\")\n",
    "else: print(f'Nghiem cua phuong trinh: {-b/a:.2f}')\n",
    "    \n"
   ]
  },
  {
   "cell_type": "code",
   "execution_count": 57,
   "id": "c0ec72e0-acdd-42f1-a8fa-c66773688b28",
   "metadata": {},
   "outputs": [
    {
     "name": "stdin",
     "output_type": "stream",
     "text": [
      "Nhap diem trung binh 7\n"
     ]
    },
    {
     "name": "stdout",
     "output_type": "stream",
     "text": [
      "Kha\n"
     ]
    }
   ],
   "source": [
    "#W3A15\n",
    "#[Xếp loại học lực]\n",
    "#Nhập vào điểm trung bình của một học sinh và in ra học lực của học sinh đó.\n",
    "#Xếp loại học lực theo quy tắc:\n",
    "#- >= 8.0: Giỏi\n",
    "#- >= 6.5: Khá\n",
    "#- >= 5.0: Trung bình\n",
    "#- < 5.0: Yếu\n",
    "score=float(input(\"Nhap diem trung binh\"))\n",
    "if score>=8.0:\n",
    "    print(\"Gioi\")\n",
    "elif score>=6.5:\n",
    "    print(\"Kha\")\n",
    "elif score>=5.0:\n",
    "    print(\"Trung binh\")\n",
    "else: print(\"Yeu\")"
   ]
  },
  {
   "cell_type": "code",
   "execution_count": 75,
   "id": "ccb803a0-de0f-46fb-9b48-71583e78f3f9",
   "metadata": {},
   "outputs": [
    {
     "name": "stdin",
     "output_type": "stream",
     "text": [
      "Nhap so thuc: -4.6\n"
     ]
    },
    {
     "name": "stdout",
     "output_type": "stream",
     "text": [
      "-4 -5 -5\n"
     ]
    }
   ],
   "source": [
    "#W3A16\n",
    "#[Rounding]\n",
    "#Nhập vào một số thực: in ra kết quả làm tròn lên, tròn xuống, làm tròn tới số\n",
    "#nguyên gần nhất (không được sử dụng hàm sẵn có của pyton). Các kết quả\n",
    "#cách nhau một dấu cách\n",
    "x=float(input(\"Nhap so thuc:\"))\n",
    "#Lam tron len\n",
    "if x<=0:\n",
    "    ceil=int(x)\n",
    "else:\n",
    "    if int(x)==x:\n",
    "        ceil=int(x)\n",
    "    else:\n",
    "        ceil=int(x)+1\n",
    "#Lam tron xuong\n",
    "if x>=0:\n",
    "    floor=int(x)\n",
    "else:\n",
    "    if int(x)==x:\n",
    "        floor=int(x)\n",
    "    else:\n",
    "        floor=int(x)-1\n",
    "#Lam tron toi so nguyen gan nhat\n",
    "fraction=x-int(x)\n",
    "if x>=0:\n",
    "    if fraction < 0.5:\n",
    "        nearest=int(x)\n",
    "    else:\n",
    "        nearest=int(x)+1\n",
    "else:\n",
    "    if fraction > -0.5:\n",
    "        nearest=int(x)\n",
    "    else:\n",
    "        nearest=int(x)-1\n",
    "print(ceil, floor, nearest, sep=\" \")"
   ]
  },
  {
   "cell_type": "code",
   "execution_count": 71,
   "id": "00a78100-f03c-4cca-b56c-ff9dcc7c988c",
   "metadata": {},
   "outputs": [
    {
     "name": "stdin",
     "output_type": "stream",
     "text": [
      "Nhap 4 so a, b, c, d: 2 4 8 16\n"
     ]
    },
    {
     "name": "stdout",
     "output_type": "stream",
     "text": [
      "Co the\n"
     ]
    }
   ],
   "source": [
    "#W3A17\n",
    "#Cấp số nhân\n",
    "#Cho 4 số a, b, c, d. Hãy kiểm tra xem 4 số này có thể theo thứ tự tạo thành 1\n",
    "#cấp số nhân với công bội nguyên theo đúng thứ tự a, b, c, d hay không?\n",
    "#Gợi ý : Tìm công bội (b / a) nếu b chia hết cho a, sau đó lấy b nhân công bội\n",
    "#và so sánh vs c, c nhân công bội và so sánh vs d. \n",
    "a, b, c, d=map(float, input(\"Nhap 4 so a, b, c, d:\").split())\n",
    "if a==0:\n",
    "    print(\"Khong the xac dinh cong boi\")\n",
    "else:\n",
    "    q=b/a\n",
    "    if q==int(q): \n",
    "        if b*q==c and c*q==d:print(\"Co the\")\n",
    "        else:print(\"Khong the\")\n",
    "    else:  print(\"Khong the\")"
   ]
  }
 ],
 "metadata": {
  "kernelspec": {
   "display_name": "Python 3 (ipykernel)",
   "language": "python",
   "name": "python3"
  },
  "language_info": {
   "codemirror_mode": {
    "name": "ipython",
    "version": 3
   },
   "file_extension": ".py",
   "mimetype": "text/x-python",
   "name": "python",
   "nbconvert_exporter": "python",
   "pygments_lexer": "ipython3",
   "version": "3.13.7"
  }
 },
 "nbformat": 4,
 "nbformat_minor": 5
}
