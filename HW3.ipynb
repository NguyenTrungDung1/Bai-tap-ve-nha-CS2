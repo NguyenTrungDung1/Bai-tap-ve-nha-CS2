{
 "cells": [
  {
   "cell_type": "code",
   "execution_count": null,
   "id": "68193ef9-59dd-4826-9a4f-d50717183bd9",
   "metadata": {},
   "outputs": [],
   "source": []
  }
 ],
 "metadata": {
  "kernelspec": {
   "display_name": "",
   "name": ""
  },
  "language_info": {
   "name": ""
  }
 },
 "nbformat": 4,
 "nbformat_minor": 5
}
