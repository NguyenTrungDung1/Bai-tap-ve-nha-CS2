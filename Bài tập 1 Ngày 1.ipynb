{
 "cells": [
  {
   "cell_type": "code",
   "execution_count": 1,
   "metadata": {
    "colab": {
     "base_uri": "https://localhost:8080/"
    },
    "id": "6yHkw4b6-equ",
    "outputId": "a33ecf48-9449-4f04-c632-d534f6714e87"
   },
   "outputs": [
    {
     "name": "stdout",
     "output_type": "stream",
     "text": [
      "2\n"
     ]
    }
   ],
   "source": [
    "\n",
    "#W1A1\n",
    "a = 7        # Assign the value 7 to the variable 'a'\n",
    "b = 5        # Assign the value 5 to the variable 'b'\n",
    "c = a - b    # Subtract 'b' from 'a' and store the result in 'c'\n",
    "print(c)     # Print the value of 'c' to the output\n",
    "\n"
   ]
  },
  {
   "cell_type": "code",
   "execution_count": 2,
   "metadata": {
    "colab": {
     "base_uri": "https://localhost:8080/"
    },
    "id": "3TrPrSMS_T2G",
    "outputId": "8e70d949-41bc-4046-b1a8-628478d6e51b"
   },
   "outputs": [
    {
     "name": "stdout",
     "output_type": "stream",
     "text": [
      "Thanh Pho: Ha Noi - Nam: 2025\n"
     ]
    }
   ],
   "source": [
    "#W1A2\n",
    "city = 'Ha Noi'    # Assign the string 'Ha Noi' to the variable city\n",
    "year = 2025        # Assign the integer 2025 to the variable year\n",
    "print('Thanh Pho:', city, '- Nam:', year)\n",
    "# Print the text 'Thanh Pho:', the value of city, then '- Nam:', and the value of year, all separated by spaces"
   ]
  },
  {
   "cell_type": "code",
   "execution_count": 3,
   "metadata": {
    "colab": {
     "base_uri": "https://localhost:8080/"
    },
    "id": "qm_QEsYhBqxv",
    "outputId": "6dcc890c-8017-4499-fd66-663be9b239fa"
   },
   "outputs": [
    {
     "name": "stdout",
     "output_type": "stream",
     "text": [
      "1\n",
      "3\n",
      "6\n",
      "10\n"
     ]
    }
   ],
   "source": [
    "#W1A3\n",
    "n = 4        # Assign the value 4 to the variable 'n'\n",
    "t = 0        # Initialize a variable 't' to 0 to hold the running total\n",
    "\n",
    "for i in range(1, n + 1):  # Loop 'i' from 1 to 'n' (inclusive)\n",
    "    t += i                # Add the current value of 'i' to 't'\n",
    "    print(t)              # Print the current total after adding 'i'\n"
   ]
  },
  {
   "cell_type": "code",
   "execution_count": 4,
   "metadata": {
    "colab": {
     "base_uri": "https://localhost:8080/"
    },
    "id": "f52C4tlpHUDu",
    "outputId": "fe8ea2a1-af01-4356-e7f8-996b9aca4e34"
   },
   "outputs": [
    {
     "name": "stdout",
     "output_type": "stream",
     "text": [
      "1 là số lẻ\n",
      "2 là số chẵn\n",
      "3 là số lẻ\n",
      "4 là số chẵn\n"
     ]
    }
   ],
   "source": [
    "#W1A4\n",
    "numbers = [1, 2, 3, 4]  # Define a list of numbers\n",
    "\n",
    "for x in numbers:  # Loop through each number in the list\n",
    "    if x % 2 == 0:  # Check if the number is divisible by 2 (even)\n",
    "        print(x, 'là số chẵn')  # Print that it's an even number\n",
    "    else:\n",
    "        print(x, 'là số lẻ')    # Otherwise, print that it's an odd number\n"
   ]
  },
  {
   "cell_type": "code",
   "execution_count": 5,
   "metadata": {
    "colab": {
     "base_uri": "https://localhost:8080/"
    },
    "id": "l2jvvK9uIKgk",
    "outputId": "48dda02a-cb88-4401-f1ec-4331519d301f"
   },
   "outputs": [
    {
     "name": "stdout",
     "output_type": "stream",
     "text": [
      "Số phần tử trong danh sách là: 4\n"
     ]
    }
   ],
   "source": [
    "#w1A5\n",
    "animals = ['cat', 'dog', 'cat', 'bird']  # A list containing 4 animal names\n",
    "count = 0  # Initialize a counter variable to 0\n",
    "\n",
    "for a in animals:  # Loop through each animal in the list\n",
    "    count += 1    # Increase the counter by 1 for each animal\n",
    "\n",
    "print('Số phần tử trong danh sách là:', count)  # Print the total count of elements in the list\n"
   ]
  },
  {
   "cell_type": "code",
   "execution_count": 6,
   "metadata": {},
   "outputs": [],
   "source": [
    "#W1A6\n",
    "#Khi bạn chạy chương trình này, nó sẽ hiển thị menu và chờ người dùng nhập lựa chọn. Dựa vào lựa chọn của người dùng, chương trình sẽ thực hiện một trong các hành động sau:\n",
    "\n",
    "#Nếu nhập 1 → chương trình sẽ gọi hàm xử lý phân tích cảm xúc.\n",
    "\n",
    "#Nếu nhập 2 → chương trình sẽ gọi hàm dự báo thời tiết.\n",
    "\n",
    "#Nếu nhập 3 → chương trình kết thúc.\n",
    "\n",
    "#Nếu nhập giá trị khác → có thể sẽ báo lỗi hoặc yêu cầu nhập lại (nếu chương trình xử lý lỗi tốt).\n",
    "#Đây là menu điều hướng chính của một ứng dụng AI đa chức năng. Nó chưa cho thấy chi tiết cách các chức năng hoạt động, nhưng cho ta thấy ý tưởng tổng thể: cho phép người dùng chọn một trong nhiều chức năng của hệ thống AI để sử dụng."
   ]
  },
  {
   "cell_type": "code",
   "execution_count": 7,
   "metadata": {
    "colab": {
     "base_uri": "https://localhost:8080/"
    },
    "id": "NbLwNQtfI8aj",
    "outputId": "a11fcecb-8621-406e-ce5c-76d3a7e2831b"
   },
   "outputs": [
    {
     "ename": "ValueError",
     "evalue": "invalid literal for int() with base 10: ''",
     "output_type": "error",
     "traceback": [
      "\u001b[31m---------------------------------------------------------------------------\u001b[39m",
      "\u001b[31mValueError\u001b[39m                                Traceback (most recent call last)",
      "\u001b[36mCell\u001b[39m\u001b[36m \u001b[39m\u001b[32mIn[7]\u001b[39m\u001b[32m, line 2\u001b[39m\n\u001b[32m      1\u001b[39m \u001b[38;5;66;03m#w1A7\u001b[39;00m\n\u001b[32m----> \u001b[39m\u001b[32m2\u001b[39m num = \u001b[38;5;28;43mint\u001b[39;49m\u001b[43m(\u001b[49m\u001b[38;5;28;43minput\u001b[39;49m\u001b[43m(\u001b[49m\u001b[33;43m'\u001b[39;49m\u001b[33;43mNhập số: \u001b[39;49m\u001b[33;43m'\u001b[39;49m\u001b[43m)\u001b[49m\u001b[43m)\u001b[49m  \u001b[38;5;66;03m# Convert input string to integer\u001b[39;00m\n\u001b[32m      4\u001b[39m \u001b[38;5;28;01mif\u001b[39;00m num % \u001b[32m2\u001b[39m == \u001b[32m0\u001b[39m:  \u001b[38;5;66;03m# Check if num is divisible by 2 (even)\u001b[39;00m\n\u001b[32m      5\u001b[39m     \u001b[38;5;28mprint\u001b[39m(\u001b[33m'\u001b[39m\u001b[33mSố chẵn\u001b[39m\u001b[33m'\u001b[39m)  \u001b[38;5;66;03m# Print \"Even number\"\u001b[39;00m\n",
      "\u001b[31mValueError\u001b[39m: invalid literal for int() with base 10: ''"
     ]
    }
   ],
   "source": [
    "#w1A7\n",
    "num = int(input('Nhập số: '))  # Convert input string to integer\n",
    "\n",
    "if num % 2 == 0:  # Check if num is divisible by 2 (even)\n",
    "    print('Số chẵn')  # Print \"Even number\"\n",
    "else:\n",
    "    print('Số lẻ')    # Print \"Odd number\"\n",
    "\n"
   ]
  },
  {
   "cell_type": "code",
   "execution_count": null,
   "metadata": {
    "colab": {
     "base_uri": "https://localhost:8080/"
    },
    "id": "RfiSccqTLIE0",
    "outputId": "e12e5e8c-d075-416a-9d8f-8ad1cce191b9"
   },
   "outputs": [
    {
     "name": "stdout",
     "output_type": "stream",
     "text": [
      "AI đang học lần 1\n",
      "AI đang học lần 2\n",
      "AI đang học lần 3\n",
      "Huấn luyện xong!\n"
     ]
    }
   ],
   "source": [
    "#W1A8\n",
    "for i in range(3):\n",
    "    print('AI đang học lần', i + 1)  # Print iteration count inside loop\n",
    "\n",
    "print('Huấn luyện xong!')  # Print this after loop completes\n"
   ]
  },
  {
   "cell_type": "code",
   "execution_count": null,
   "metadata": {
    "colab": {
     "base_uri": "https://localhost:8080/"
    },
    "id": "5qW4hMG3Lmp-",
    "outputId": "eb1c3622-85c8-4dd1-8678-775c3a193b6b"
   },
   "outputs": [
    {
     "name": "stdout",
     "output_type": "stream",
     "text": [
      "Dự đoán con vật: cat\n",
      "Dự đoán con vật: dog\n",
      "Dự đoán con vật: fish\n"
     ]
    }
   ],
   "source": [
    "#W1A9\n",
    "# This 'for' loop iterates through each item in the list: 'cat', 'dog', and 'fish'.\n",
    "# In each turn, the current item is assigned to the variable 'x'.\n",
    "for x in ['cat', 'dog', 'fish']:\n",
    "    # This line prints a Vietnamese phrase followed by the current value of 'x'.\n",
    "    # The output will be a new line for each item in the list.\n",
    "    print('Dự đoán con vật:', x)"
   ]
  },
  {
   "cell_type": "code",
   "execution_count": null,
   "metadata": {
    "colab": {
     "base_uri": "https://localhost:8080/"
    },
    "id": "jgwO4MDcMKQV",
    "outputId": "6d2e5b8f-6edb-467f-9327-ebecb3facc2c"
   },
   "outputs": [
    {
     "name": "stdout",
     "output_type": "stream",
     "text": [
      "=== AI Prediction System ===\n",
      "1) Sentiment analysis\n",
      "2) Weather forecast\n",
      "3) Exit\n",
      "Please choose an option:\n"
     ]
    }
   ],
   "source": [
    "#W1A10\n",
    "# The original code was missing parentheses here. In Python 3, 'print' is a function,\n",
    "# so the text you want to display must be inside parentheses.\n",
    "print(\"=== AI Prediction System ===\")\n",
    "\n",
    "# This line was correct.\n",
    "print(\"1) Sentiment analysis\")\n",
    "\n",
    "# This line had an extra closing parenthesis ')' at the end.\n",
    "print(\"2) Weather forecast\")\n",
    "\n",
    "# This line was missing a closing parenthesis ')'.\n",
    "print('3) Exit')\n",
    "\n",
    "# This line was also missing a closing parenthesis ')'.\n",
    "print(\"Please choose an option:\")"
   ]
  }
 ],
 "metadata": {
  "colab": {
   "provenance": []
  },
  "kernelspec": {
   "display_name": "Python 3",
   "language": "python",
   "name": "python3"
  },
  "language_info": {
   "codemirror_mode": {
    "name": "ipython",
    "version": 3
   },
   "file_extension": ".py",
   "mimetype": "text/x-python",
   "name": "python",
   "nbconvert_exporter": "python",
   "pygments_lexer": "ipython3",
   "version": "3.13.7"
  }
 },
 "nbformat": 4,
 "nbformat_minor": 4
}
