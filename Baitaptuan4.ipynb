{
 "cells": [
  {
   "cell_type": "code",
   "execution_count": 6,
   "id": "a380f5cb-8fa2-4646-b2ef-357ec15675de",
   "metadata": {},
   "outputs": [
    {
     "name": "stdin",
     "output_type": "stream",
     "text": [
      " 5\n"
     ]
    },
    {
     "name": "stdout",
     "output_type": "stream",
     "text": [
      "1 2 3 4 5 \n",
      "15\n"
     ]
    }
   ],
   "source": [
    "#Bai 1\n",
    "#Tinh tong cac so nguyen tu 1 den n\n",
    "n=int(input())\n",
    "Sum=0\n",
    "for i in range(1, n+1, 1):\n",
    "    print(i, end=' ')\n",
    "    Sum+=i\n",
    "print(f'\\n{Sum}')"
   ]
  },
  {
   "cell_type": "code",
   "execution_count": null,
   "id": "343a14e1-0a3b-431d-8efb-fca6a9506c81",
   "metadata": {},
   "outputs": [],
   "source": [
    "nếu range có 1 tham số: stop (start mặc định là 0, step:1)\n",
    "nếu range có 2 tham số: start và stop (step:1)\n",
    "nếu range có 3 tham số: start, stop và step"
   ]
  },
  {
   "cell_type": "code",
   "execution_count": 9,
   "id": "a9f2ffc3-fa70-4834-95fe-c1affe7521fa",
   "metadata": {},
   "outputs": [
    {
     "name": "stdin",
     "output_type": "stream",
     "text": [
      " df\n"
     ]
    },
    {
     "name": "stdout",
     "output_type": "stream",
     "text": [
      "Ban nhap khong phai la mot so nguyen\n"
     ]
    }
   ],
   "source": [
    "#Bai 1: Bat loi nhap lieu\n",
    "try:\n",
    "    n=int(input())\n",
    "    if (n>0):\n",
    "        Sum=0\n",
    "        for i in range (1,n+1,1):\n",
    "            print(i, end=' ')\n",
    "            Sum+=i\n",
    "        print(f'\\n{Sum}')\n",
    "    else:\n",
    "        print(\"Nhap so am mat roi\")\n",
    "except ValueError:\n",
    "    print(\"Ban nhap khong phai la mot so nguyen\")"
   ]
  },
  {
   "cell_type": "code",
   "execution_count": 13,
   "id": "e77f971b-2106-4f5b-98c0-73c0ab4fdafa",
   "metadata": {},
   "outputs": [
    {
     "name": "stdin",
     "output_type": "stream",
     "text": [
      " 24\n"
     ]
    },
    {
     "name": "stdout",
     "output_type": "stream",
     "text": [
      "24 khong la so nguyen to\n"
     ]
    }
   ],
   "source": [
    "#W4A2\n",
    "#[PrimeNumber]\n",
    "#VIết chương trình nhập vào một số tới khi được một số nguyên dương thì thôi.\n",
    "#Kiểm tra số này có phải là số nguyên tố hay không? \n",
    "try:\n",
    "    check=1\n",
    "    while(check):\n",
    "        n=int(input())\n",
    "        if (n<0):\n",
    "            print(\"Vui long nhap so nguyen duong\")\n",
    "        else:\n",
    "            check=0\n",
    "        #Kiem tra so nguyen to\n",
    "        if n>=2:\n",
    "            for i in range (2, int(n**0.5)+1):\n",
    "                flag=True\n",
    "                if n%i==0:\n",
    "                    flag=False\n",
    "                    break\n",
    "            if flag:\n",
    "                print(f'{n} la so nguyen to')\n",
    "            else: \n",
    "                print(f'{n} khong la so nguyen to')\n",
    "        else:\n",
    "            print(f'{n} khong la so nguyen to')\n",
    "except ValueError:\n",
    "    print(\"Vui long nhap so nguyen lon hon 2\")\n",
    "                    \n",
    "    "
   ]
  },
  {
   "cell_type": "code",
   "execution_count": 14,
   "id": "1f161791-3a55-4c1e-9759-f872d01a8bd1",
   "metadata": {},
   "outputs": [
    {
     "ename": "_IncompleteInputError",
     "evalue": "incomplete input (269303061.py, line 10)",
     "output_type": "error",
     "traceback": [
      "  \u001b[36mCell\u001b[39m\u001b[36m \u001b[39m\u001b[32mIn[14]\u001b[39m\u001b[32m, line 10\u001b[39m\n\u001b[31m    \u001b[39m\u001b[31mfor i in range (1, n+1):\u001b[39m\n                            ^\n\u001b[31m_IncompleteInputError\u001b[39m\u001b[31m:\u001b[39m incomplete input\n"
     ]
    }
   ],
   "source": [
    "#W4A3 \n",
    "#[Factorial]\n",
    "#Viết chương trình tính giai thừa của một số nguyên n cho trước (n!=1×2×…×n)\n",
    "#với 0 < n < 100. \n",
    "n=int(input())\n",
    "while n<=0:\n",
    "    print('Vui long nhap lai')\n",
    "    n=int(input())\n",
    "e=1\n",
    "for i in range (1, n+1):\n",
    "    e=e*i\n",
    "print(e)\n"
   ]
  },
  {
   "cell_type": "code",
   "execution_count": 16,
   "id": "9fca119a-daab-4d1e-a64f-47d18f9a62ae",
   "metadata": {},
   "outputs": [
    {
     "name": "stdin",
     "output_type": "stream",
     "text": [
      " -789\n"
     ]
    },
    {
     "name": "stdout",
     "output_type": "stream",
     "text": [
      "3\n"
     ]
    }
   ],
   "source": [
    "#W4A4\n",
    "#[CountingDigits]\n",
    "#Viết chương trình nhập vào một số nguyên n và in ra màn hình số chữ số (trừ dấu)\n",
    "#của số đó. Không dùng kiểu dữ liệu string.\n",
    "n=int(input())\n",
    "#if n<0:\n",
    "    #n=n*(-1)\n",
    "n=abs(n)#ham lay gia tri tuyet doi\n",
    "count=0\n",
    "while n>0:\n",
    "    count+=1\n",
    "    n=n//10\n",
    "print(count)\n"
   ]
  },
  {
   "cell_type": "code",
   "execution_count": 23,
   "id": "dadc0e3a-ffdf-483f-ae8f-5781331530dd",
   "metadata": {},
   "outputs": [
    {
     "name": "stdin",
     "output_type": "stream",
     "text": [
      " 5\n",
      " 42\n"
     ]
    },
    {
     "name": "stdout",
     "output_type": "stream",
     "text": [
      "I've found the meaning of life\n"
     ]
    }
   ],
   "source": [
    "#W4A5 \n",
    "n=int(input())\n",
    "flag = False\n",
    "for i in range(n):\n",
    "    x=int(input())\n",
    "    if x==42:\n",
    "        flag = True\n",
    "        break\n",
    "if flag:\n",
    "    print(\"I've found the meaning of life\")\n",
    "else:\n",
    "    print(\"It's a joke\")\n"
   ]
  },
  {
   "cell_type": "code",
   "execution_count": 4,
   "id": "5876f145-ed55-4e30-9481-20c1ba0d2267",
   "metadata": {},
   "outputs": [
    {
     "name": "stdin",
     "output_type": "stream",
     "text": [
      "Nhap so nguyen duong n: 67\n"
     ]
    },
    {
     "name": "stdout",
     "output_type": "stream",
     "text": [
      "So can tim la 484\n"
     ]
    }
   ],
   "source": [
    "#W4A8\n",
    "n = int(input(\"Nhap so nguyen duong n:\"))\n",
    "reverse = str(\"\")\n",
    "check = 0\n",
    "while check == 0:\n",
    "    tmp = n\n",
    "    reverse = \"\"\n",
    "    while tmp > 0:\n",
    "        reverse += str(tmp % 10)\n",
    "        tmp //= 10\n",
    "\n",
    "    m = 0\n",
    "    for x in reverse:\n",
    "        m = m * 10 + int(x)\n",
    "    n += m\n",
    "\n",
    "    s = str(n)\n",
    "    check  = 1\n",
    "    for i in range (0, len(s) // 2):\n",
    "        if (s[i] != s[len(s) - 1 - i]):\n",
    "            check = 0\n",
    "print (f'So can tim la {n}')"
   ]
  },
  {
   "cell_type": "code",
   "execution_count": null,
   "id": "acee346e-b053-4063-9e9d-4eed81835dfe",
   "metadata": {},
   "outputs": [],
   "source": []
  }
 ],
 "metadata": {
  "kernelspec": {
   "display_name": "Python 3 (ipykernel)",
   "language": "python",
   "name": "python3"
  },
  "language_info": {
   "codemirror_mode": {
    "name": "ipython",
    "version": 3
   },
   "file_extension": ".py",
   "mimetype": "text/x-python",
   "name": "python",
   "nbconvert_exporter": "python",
   "pygments_lexer": "ipython3",
   "version": "3.13.7"
  }
 },
 "nbformat": 4,
 "nbformat_minor": 5
}
