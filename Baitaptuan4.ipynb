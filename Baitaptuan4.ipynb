{
 "cells": [
  {
   "cell_type": "code",
   "execution_count": 6,
   "id": "a380f5cb-8fa2-4646-b2ef-357ec15675de",
   "metadata": {},
   "outputs": [
    {
     "name": "stdin",
     "output_type": "stream",
     "text": [
      " 5\n"
     ]
    },
    {
     "name": "stdout",
     "output_type": "stream",
     "text": [
      "1 2 3 4 5 \n",
      "15\n"
     ]
    }
   ],
   "source": [
    "#Bai 1\n",
    "#Tinh tong cac so nguyen tu 1 den n\n",
    "n=int(input())\n",
    "Sum=0\n",
    "for i in range(1, n+1, 1):\n",
    "    print(i, end=' ')\n",
    "    Sum+=i\n",
    "print(f'\\n{Sum}')"
   ]
  },
  {
   "cell_type": "code",
   "execution_count": null,
   "id": "343a14e1-0a3b-431d-8efb-fca6a9506c81",
   "metadata": {},
   "outputs": [],
   "source": [
    "nếu range có 1 tham số: stop (start mặc định là 0, step:1)\n",
    "nếu range có 2 tham số: start và stop (step:1)\n",
    "nếu range có 3 tham số: start, stop và step"
   ]
  },
  {
   "cell_type": "code",
   "execution_count": 9,
   "id": "a9f2ffc3-fa70-4834-95fe-c1affe7521fa",
   "metadata": {},
   "outputs": [
    {
     "name": "stdin",
     "output_type": "stream",
     "text": [
      " df\n"
     ]
    },
    {
     "name": "stdout",
     "output_type": "stream",
     "text": [
      "Ban nhap khong phai la mot so nguyen\n"
     ]
    }
   ],
   "source": [
    "#Bai 1: Bat loi nhap lieu\n",
    "try:\n",
    "    n=int(input())\n",
    "    if (n>0):\n",
    "        Sum=0\n",
    "        for i in range (1,n+1,1):\n",
    "            print(i, end=' ')\n",
    "            Sum+=i\n",
    "        print(f'\\n{Sum}')\n",
    "    else:\n",
    "        print(\"Nhap so am mat roi\")\n",
    "except ValueError:\n",
    "    print(\"Ban nhap khong phai la mot so nguyen\")"
   ]
  },
  {
   "cell_type": "code",
   "execution_count": 12,
   "id": "e77f971b-2106-4f5b-98c0-73c0ab4fdafa",
   "metadata": {},
   "outputs": [
    {
     "name": "stdin",
     "output_type": "stream",
     "text": [
      " 2\n"
     ]
    },
    {
     "name": "stdout",
     "output_type": "stream",
     "text": [
      "2 la so nguyen to\n"
     ]
    }
   ],
   "source": [
    "#W4A2\n",
    "#[PrimeNumber]\n",
    "#VIết chương trình nhập vào một số tới khi được một số nguyên dương thì thôi.\n",
    "#Kiểm tra số này có phải là số nguyên tố hay không? \n",
    "try:\n",
    "    check=1\n",
    "    while(check):\n",
    "        n=int(input())\n",
    "        if (n<0):\n",
    "            print(\"Vui long nhap so nguyen duong\")\n",
    "        else:\n",
    "            check=0\n",
    "        #Kiem tra so nguyen to\n",
    "        if n>=2:\n",
    "            for i in range (2, int(n**0.5)+1):\n",
    "                flag=True\n",
    "                if n%i==0:\n",
    "                    flag=False\n",
    "                    break\n",
    "            if flag:\n",
    "                print(f'{n} la so nguyen to')\n",
    "            else: \n",
    "                print(f'{n} khong la so nguyen to')\n",
    "        else:\n",
    "            print(f'{n} khong la so nguyen to')\n",
    "except ValueError:\n",
    "    print(\"Vui long nhap so nguyen lon hon 2\")\n",
    "                    \n",
    "    "
   ]
  },
  {
   "cell_type": "code",
   "execution_count": 20,
   "id": "1f161791-3a55-4c1e-9759-f872d01a8bd1",
   "metadata": {},
   "outputs": [
    {
     "name": "stdin",
     "output_type": "stream",
     "text": [
      " 7\n"
     ]
    },
    {
     "name": "stdout",
     "output_type": "stream",
     "text": [
      "5040\n"
     ]
    }
   ],
   "source": [
    "#W4A3 \n",
    "#[Factorial]\n",
    "#Viết chương trình tính giai thừa của một số nguyên n cho trước (n!=1×2×…×n)\n",
    "#với 0 < n < 100. \n",
    "n=int(input())\n",
    "while n<=0:\n",
    "    print('Vui long nhap lai')\n",
    "    n=int(input())\n",
    "e=1\n",
    "for i in range (1, n+1):\n",
    "    e=e*i\n",
    "print(e)\n"
   ]
  },
  {
   "cell_type": "code",
   "execution_count": 16,
   "id": "9fca119a-daab-4d1e-a64f-47d18f9a62ae",
   "metadata": {},
   "outputs": [
    {
     "name": "stdin",
     "output_type": "stream",
     "text": [
      " -789\n"
     ]
    },
    {
     "name": "stdout",
     "output_type": "stream",
     "text": [
      "3\n"
     ]
    }
   ],
   "source": [
    "#W4A4\n",
    "#[CountingDigits]\n",
    "#Viết chương trình nhập vào một số nguyên n và in ra màn hình số chữ số (trừ dấu)\n",
    "#của số đó. Không dùng kiểu dữ liệu string.\n",
    "n=int(input())\n",
    "#if n<0:\n",
    "    #n=n*(-1)\n",
    "n=abs(n)#ham lay gia tri tuyet doi\n",
    "count=0\n",
    "while n>0:\n",
    "    count+=1\n",
    "    n=n//10\n",
    "print(count)\n"
   ]
  },
  {
   "cell_type": "code",
   "execution_count": 23,
   "id": "dadc0e3a-ffdf-483f-ae8f-5781331530dd",
   "metadata": {},
   "outputs": [
    {
     "name": "stdin",
     "output_type": "stream",
     "text": [
      " 5\n",
      " 42\n"
     ]
    },
    {
     "name": "stdout",
     "output_type": "stream",
     "text": [
      "I've found the meaning of life\n"
     ]
    }
   ],
   "source": [
    "#W4A5 \n",
    "n=int(input())\n",
    "flag = False\n",
    "for i in range(n):\n",
    "    x=int(input())\n",
    "    if x==42:\n",
    "        flag = True\n",
    "        break\n",
    "if flag:\n",
    "    print(\"I've found the meaning of life\")\n",
    "else:\n",
    "    print(\"It's a joke\")\n"
   ]
  },
  {
   "cell_type": "code",
   "execution_count": 17,
   "id": "9d38cdcc-4bab-4be5-b0a0-18e174d2bafe",
   "metadata": {},
   "outputs": [
    {
     "name": "stdin",
     "output_type": "stream",
     "text": [
      " 13 21\n"
     ]
    },
    {
     "name": "stdout",
     "output_type": "stream",
     "text": [
      "49\n"
     ]
    }
   ],
   "source": [
    "#W4A6\n",
    "#\"[SumPrimesInRange]\n",
    "#Nhập hai số nguyên dương a, b (a ≤ b). Hãy tính tổng các số nguyên tố trong đoạn\n",
    "#[a, b]. Mỗi dòng là một bộ test (a b).\"\n",
    "a, b=map(int, input().split())\n",
    "if a > 0 and b > 0 and a <= b:\n",
    "    tong = 0\n",
    "    for i in range (a, b+1):\n",
    "        if i >= 2:\n",
    "            is_prime = True\n",
    "            for j in range (2, int(i**0.5)+1):\n",
    "                if i % j == 0:\n",
    "                    is_prime = False\n",
    "                    break\n",
    "            if is_prime:\n",
    "                tong += i\n",
    "    print (tong)\n",
    "else:\n",
    "    print (\"Nhap lai\")"
   ]
  },
  {
   "cell_type": "code",
   "execution_count": 51,
   "id": "c8859da6-779b-4999-8627-ce75c691548d",
   "metadata": {},
   "outputs": [
    {
     "name": "stdin",
     "output_type": "stream",
     "text": [
      " 102\n"
     ]
    },
    {
     "name": "stdout",
     "output_type": "stream",
     "text": [
      "17\n"
     ]
    }
   ],
   "source": [
    "#W4A7\n",
    "#\"[LargestPrimeFactor]\n",
    "#Nhập vào số nguyên dương n (n ≥ 2). Hãy in ra ước số nguyên tố lớn nhất của n.\"\n",
    "n = int(input())\n",
    "if n >= 2:\n",
    "    is_prime = True\n",
    "    max_prime = 0\n",
    "    flag = True\n",
    "    for j in range (2, int(n**0.5)+1):\n",
    "        if n % j == 0:\n",
    "            flag = False\n",
    "            break\n",
    "    if flag:\n",
    "        max_prime = n\n",
    "        print (max_prime)\n",
    "    else:\n",
    "        for i in range (2, n+1):\n",
    "            check = True\n",
    "            for m in range (2, int(i**0.5) + 1):\n",
    "                if i % m == 0:\n",
    "                    check = False\n",
    "                    break\n",
    "            if check:\n",
    "                if n % i == 0 and i > max_prime:\n",
    "                    max_prime = i\n",
    "        print (max_prime)\n",
    "else: print(\"Nhap lai\")"
   ]
  },
  {
   "cell_type": "code",
   "execution_count": 30,
   "id": "5876f145-ed55-4e30-9481-20c1ba0d2267",
   "metadata": {},
   "outputs": [
    {
     "name": "stdin",
     "output_type": "stream",
     "text": [
      "Nhap so nguyen duong n: 6\n"
     ]
    },
    {
     "name": "stdout",
     "output_type": "stream",
     "text": [
      "So can tim la 33\n"
     ]
    }
   ],
   "source": [
    "#W4A8\n",
    "n = int(input(\"Nhap so nguyen duong n:\"))\n",
    "reverse = str(\"\")\n",
    "check = 0\n",
    "while check == 0:\n",
    "    tmp = n\n",
    "    reverse = \"\"\n",
    "    while tmp > 0:\n",
    "        reverse += str(tmp % 10)\n",
    "        tmp //= 10\n",
    "\n",
    "    m = 0\n",
    "    for x in reverse:\n",
    "        m = m * 10 + int(x)\n",
    "    n += m\n",
    "\n",
    "    s = str(n)\n",
    "    check  = 1\n",
    "    for i in range (0, len(s) // 2):\n",
    "        if (s[i] != s[len(s) - 1 - i]):\n",
    "            check = 0\n",
    "print (f'So can tim la {n}')"
   ]
  },
  {
   "cell_type": "code",
   "execution_count": 55,
   "id": "acee346e-b053-4063-9e9d-4eed81835dfe",
   "metadata": {},
   "outputs": [
    {
     "name": "stdin",
     "output_type": "stream",
     "text": [
      " 16\n"
     ]
    },
    {
     "name": "stdout",
     "output_type": "stream",
     "text": [
      "1 4 9 16 "
     ]
    }
   ],
   "source": [
    "#W4A9\n",
    "#[PerfectSquaresDistinctDigits]\n",
    "#Nhập vào số nguyên dương n. In ra tất cả các số chính phương ≤ n có các chữ số\n",
    "#đôi một khác nhau (in theo thứ tự tăng dần, cùng hàng, cách nhau bởi một dấu\n",
    "#cách). Nếu không có, in ra (no number).\n",
    "n = int(input())\n",
    "if n > 0:\n",
    "    for i in range (1, n+1):\n",
    "        if i == int(i**0.5)**2:\n",
    "            s = str(i)\n",
    "            check = True\n",
    "            for j in range (0, len(s)):\n",
    "                for m in range (j+1, len(s)):\n",
    "                    if s[j] == s[m]:\n",
    "                        check = False\n",
    "                        break\n",
    "                if not check:\n",
    "                    break\n",
    "            if check:\n",
    "                print (i, end=' ')\n",
    "else: print (\"Nhap lai\")"
   ]
  },
  {
   "cell_type": "code",
   "execution_count": 64,
   "id": "0414edf4-5809-4f7e-8b0e-b432843b768f",
   "metadata": {},
   "outputs": [
    {
     "name": "stdin",
     "output_type": "stream",
     "text": [
      " 9\n"
     ]
    },
    {
     "name": "stdout",
     "output_type": "stream",
     "text": [
      "(9 20)\n"
     ]
    }
   ],
   "source": [
    "#W4A10\n",
    "#\"[LongestCollatzUpToN]\n",
    "#Nhập vào số nguyên dương n. Tìm số x trong [1, n] có độ dài dãy Collatz lớn nhất\n",
    "#và in ra x cùng độ dài dãy tương ứng (x L). Nếu có nhiều số cùng độ dài, chọn số\n",
    "#nhỏ nhất.\" \n",
    "n = int(input())\n",
    "L = 0\n",
    "for i in range (1, n+1):\n",
    "    x = i\n",
    "    count = 1\n",
    "    check = 1\n",
    "    while (check):\n",
    "        if x != 1:\n",
    "            count += 1\n",
    "            if x % 2 == 0:\n",
    "                x = x // 2\n",
    "            else:\n",
    "                x = 3 * x + 1\n",
    "        else:\n",
    "            check = 0\n",
    "    if L < count:\n",
    "        L = count\n",
    "        y = i\n",
    "print(f'({y} {L})')"
   ]
  },
  {
   "cell_type": "code",
   "execution_count": 3,
   "id": "52556d7a-3dab-493b-8c40-663a5ac87451",
   "metadata": {},
   "outputs": [
    {
     "name": "stdin",
     "output_type": "stream",
     "text": [
      " 9\n"
     ]
    },
    {
     "name": "stdout",
     "output_type": "stream",
     "text": [
      "0\n"
     ]
    }
   ],
   "source": [
    "#W4A11\n",
    "#[EvenDivisors]\n",
    "#Viết chương trình đếm số lượng ước số chẵn của số nguyên dương n với n < 10^6.\n",
    "n = int(input())\n",
    "if 0 < n < 10**6:\n",
    "    count = 0\n",
    "    for i in range (2 , n+1, 2):\n",
    "        if n % i == 0:\n",
    "            count += 1\n",
    "    print (count)\n",
    "else: print (\"Nhap lai\")"
   ]
  },
  {
   "cell_type": "code",
   "execution_count": 4,
   "id": "b97ef3e9-f896-4df1-8e2b-d6cbf050cdff",
   "metadata": {},
   "outputs": [
    {
     "name": "stdin",
     "output_type": "stream",
     "text": [
      " 100\n",
      " 100\n"
     ]
    },
    {
     "name": "stdout",
     "output_type": "stream",
     "text": [
      "200\n"
     ]
    }
   ],
   "source": [
    "#W4A12\n",
    "#[Interest]\n",
    "#Một người có tài khoản tiết kiệm ở ngân hàng và gửi vào X đồng với lãi suất là\n",
    "#0.7% mỗi tháng. Viết chương trình tính số tiền sau N tháng người ấy rút được (cả\n",
    "#gốc và lãi, bỏ qua phần lẻ thập phân). \n",
    "N = int(input())\n",
    "X = int(input())\n",
    "for i in range (1, N+1):\n",
    "    X = X * 1.007\n",
    "print (int(X))"
   ]
  },
  {
   "cell_type": "code",
   "execution_count": 4,
   "id": "350d8519-2925-4176-85ea-df35a7eec5d8",
   "metadata": {},
   "outputs": [
    {
     "name": "stdin",
     "output_type": "stream",
     "text": [
      " 284 222\n"
     ]
    },
    {
     "name": "stdout",
     "output_type": "stream",
     "text": [
      "False\n"
     ]
    }
   ],
   "source": [
    "#W4A13\n",
    "a, b = map(int, input().split())\n",
    "if a > 0 and b > 0:\n",
    "    count_a = 0\n",
    "    count_b = 0\n",
    "    for i in range (1, a//2 + 1):\n",
    "        if a % i == 0:\n",
    "            count_a += i\n",
    "    for j in range (1, b//2 + 1):\n",
    "        if b % j == 0:\n",
    "            count_b += j\n",
    "    if count_a == b and count_b == a:\n",
    "        print (\"True\")\n",
    "    else:\n",
    "        print (\"False\")\n",
    "else:\n",
    "    print(\"Nhap lai\")"
   ]
  },
  {
   "cell_type": "code",
   "execution_count": 8,
   "id": "20647be7-7e7e-434f-a674-2980e83e5676",
   "metadata": {},
   "outputs": [
    {
     "name": "stdin",
     "output_type": "stream",
     "text": [
      " 400 45\n"
     ]
    },
    {
     "name": "stdout",
     "output_type": "stream",
     "text": [
      "5\n"
     ]
    }
   ],
   "source": [
    "#W4A14\n",
    "#[GCD]\n",
    "#Cho hai số m và n là hai số nguyên dương nhập từ bàn phím. Viết chương trình\n",
    "#tìm ước chung lớn nhất của hai số m và n. \n",
    "m, n = map(int, input().split())\n",
    "if m > 0 and n > 0:\n",
    "    uoc = 0\n",
    "    if m > n:\n",
    "        for i in range (1, n+1):\n",
    "            if m % i == 0 and n % i == 0:\n",
    "                uoc = i\n",
    "    if n > m:\n",
    "        for i in range (1, m+1):\n",
    "            if m % i == 0 and n % i == 0:\n",
    "                uoc = i\n",
    "    print (uoc)\n",
    "else:\n",
    "    print (\"Nhap lai\")"
   ]
  },
  {
   "cell_type": "code",
   "execution_count": 12,
   "id": "b61a39b6-1e1b-473d-aa55-7f94867cf587",
   "metadata": {},
   "outputs": [
    {
     "name": "stdin",
     "output_type": "stream",
     "text": [
      " 10 40\n"
     ]
    },
    {
     "name": "stdout",
     "output_type": "stream",
     "text": [
      "So ga la 0.0 va so cho la 10.0\n"
     ]
    }
   ],
   "source": [
    "#W4A15\n",
    "tong_con, tong_chan = map(int, input().split())\n",
    "if tong_con > 0 and tong_chan > 0:\n",
    "    y = (tong_chan - 2 * tong_con) / 2\n",
    "    x = tong_con - y\n",
    "    if x == int(x) and y == int(y):\n",
    "        print (f\"So ga la {x} va so cho la {y}\")\n",
    "    else:\n",
    "        print (\"Invalid\")\n",
    "else:\n",
    "    print (\"Nhap lai\")"
   ]
  },
  {
   "cell_type": "code",
   "execution_count": null,
   "id": "25095862-fd2c-4e83-ba30-6a689ea0cf8d",
   "metadata": {},
   "outputs": [],
   "source": []
  }
 ],
 "metadata": {
  "kernelspec": {
   "display_name": "Python 3 (ipykernel)",
   "language": "python",
   "name": "python3"
  },
  "language_info": {
   "codemirror_mode": {
    "name": "ipython",
    "version": 3
   },
   "file_extension": ".py",
   "mimetype": "text/x-python",
   "name": "python",
   "nbconvert_exporter": "python",
   "pygments_lexer": "ipython3",
   "version": "3.13.8"
  }
 },
 "nbformat": 4,
 "nbformat_minor": 5
}
