{
 "cells": [
  {
   "cell_type": "code",
   "execution_count": 43,
   "id": "2ecc297b-5af5-400e-a11a-d5cf786a1468",
   "metadata": {},
   "outputs": [
    {
     "name": "stdout",
     "output_type": "stream",
     "text": [
      "Hello World!\n"
     ]
    }
   ],
   "source": [
    "#W2A1\n",
    "print(\"Hello World!\")"
   ]
  },
  {
   "cell_type": "code",
   "execution_count": 18,
   "id": "2156b3a8-c6a3-49b3-af33-f69726643fe4",
   "metadata": {},
   "outputs": [
    {
     "name": "stdin",
     "output_type": "stream",
     "text": [
      "Your name: Dũng\n"
     ]
    },
    {
     "name": "stdout",
     "output_type": "stream",
     "text": [
      "Hello Dũng\n"
     ]
    }
   ],
   "source": [
    "#W2A2\n",
    "a=input(\"Your name:\")\n",
    "print(\"Hello\",a)"
   ]
  },
  {
   "cell_type": "code",
   "execution_count": 17,
   "id": "d4ac0949-4007-4215-b073-8c191732b629",
   "metadata": {},
   "outputs": [
    {
     "name": "stdin",
     "output_type": "stream",
     "text": [
      "Enter two numbers: 10 4\n"
     ]
    },
    {
     "name": "stdout",
     "output_type": "stream",
     "text": [
      "10.0+4.0=14.00\n",
      "10.0-4.0=6.00\n",
      "10.0*4.0=40.00\n",
      "10.0//4.0=2.00\n",
      "10.0%4.0=2.00\n",
      "10.0/4.0=2.50\n"
     ]
    }
   ],
   "source": [
    "#W2A3\n",
    "a, b=map(float, input(\"Enter two numbers:\").split())\n",
    "print(f'{a}+{b}={a+b:.2f}')\n",
    "print(f'{a}-{b}={a-b:.2f}')\n",
    "print(f'{a}*{b}={a*b:.2f}')\n",
    "print(f'{a}//{b}={a//b:.2f}')\n",
    "print(f'{a}%{b}={a%b:.2f}')\n",
    "print(f'{a}/{b}={a/b:.2f}')"
   ]
  },
  {
   "cell_type": "code",
   "execution_count": 20,
   "id": "7ee2013d-52c3-487b-9c40-6c848930341e",
   "metadata": {},
   "outputs": [
    {
     "name": "stdin",
     "output_type": "stream",
     "text": [
      "Enter your score: 5 4 6 7 8 2\n"
     ]
    },
    {
     "name": "stdout",
     "output_type": "stream",
     "text": [
      "Điểm trung bình:5.1\n"
     ]
    }
   ],
   "source": [
    "#W2A4\n",
    "a1, b1, c1, a2, b2, a3=map(float, input(\"Enter your score:\").split())\n",
    "print(f'Điểm trung bình:{((a1+b1+c1)+(a2+b2)*2+a3*3)/10:.1f}')"
   ]
  },
  {
   "cell_type": "code",
   "execution_count": 21,
   "id": "40f2e013-9bc5-47f3-9492-8afa3300d7c1",
   "metadata": {},
   "outputs": [
    {
     "name": "stdin",
     "output_type": "stream",
     "text": [
      "Enter the number: 2 3\n"
     ]
    },
    {
     "name": "stdout",
     "output_type": "stream",
     "text": [
      "2**3=8\n"
     ]
    }
   ],
   "source": [
    "#W2A5\n",
    "a, b=map(int, input(\"Enter the number:\").split())\n",
    "print(f'{a}**{b}={a**b}')"
   ]
  },
  {
   "cell_type": "code",
   "execution_count": 27,
   "id": "62cb0e47-e468-4b6f-a49f-d3a0422cd619",
   "metadata": {},
   "outputs": [
    {
     "name": "stdin",
     "output_type": "stream",
     "text": [
      "Enter a character: a\n"
     ]
    },
    {
     "name": "stdout",
     "output_type": "stream",
     "text": [
      "Unicode of a is 97\n",
      "The uppercase of a is A\n"
     ]
    }
   ],
   "source": [
    "#W2A6\n",
    "a=input(\"Enter a character:\")\n",
    "print(f'Unicode of {a} is {ord(a)}')\n",
    "b=ord(a)-32\n",
    "print(f'The uppercase of {a} is {chr(b)}')"
   ]
  },
  {
   "cell_type": "code",
   "execution_count": 32,
   "id": "fa8d222a-149b-4f2f-98c1-5010967a1eb4",
   "metadata": {},
   "outputs": [
    {
     "name": "stdout",
     "output_type": "stream",
     "text": [
      "512/512\n"
     ]
    }
   ],
   "source": [
    "#W2A7\n",
    "A = ((13 ** 2) * 3) + 5 \n",
    "B = 13**2*3 + 5\n",
    "print(A, B, sep='/')"
   ]
  },
  {
   "cell_type": "code",
   "execution_count": 44,
   "id": "0060657c-91f8-4243-ae46-17a75ff07304",
   "metadata": {},
   "outputs": [
    {
     "name": "stdin",
     "output_type": "stream",
     "text": [
      "Nhiệt độ Celcius: 0\n"
     ]
    },
    {
     "name": "stdout",
     "output_type": "stream",
     "text": [
      "Nhiệt độ Fahrenheit tương ứng:32.00\n"
     ]
    }
   ],
   "source": [
    "#W2A8\n",
    "C=float(input('Nhiệt độ Celcius:'))\n",
    "print(f'Nhiệt độ Fahrenheit tương ứng:{9/5*C + 32:.2f}')"
   ]
  },
  {
   "cell_type": "code",
   "execution_count": 50,
   "id": "94f3016f-208d-44da-b416-565cbd4784e6",
   "metadata": {},
   "outputs": [
    {
     "name": "stdin",
     "output_type": "stream",
     "text": [
      "Giá (USD): 10\n"
     ]
    },
    {
     "name": "stdout",
     "output_type": "stream",
     "text": [
      "Tổng số tiền phải trả: 34.0\n"
     ]
    }
   ],
   "source": [
    "#W2A9\n",
    "x=float(input('Giá (USD):'))\n",
    "print(f'Tổng số tiền phải trả: {x*(2+0.4)+10}')"
   ]
  },
  {
   "cell_type": "code",
   "execution_count": 56,
   "id": "99076c3f-0842-430c-b32d-98a05301888f",
   "metadata": {},
   "outputs": [
    {
     "name": "stdin",
     "output_type": "stream",
     "text": [
      "Nhập tên ba người: Bob/Alice/Helen\n"
     ]
    },
    {
     "name": "stdout",
     "output_type": "stream",
     "text": [
      "Hi Helen, Alice, and Bob.\n"
     ]
    }
   ],
   "source": [
    "#W2A10\n",
    "a, b, c=input(\"Nhập tên ba người:\").split('/')\n",
    "print(f'Hi {c}, {b}, and {a}.')"
   ]
  },
  {
   "cell_type": "code",
   "execution_count": 4,
   "id": "ec7b672a-9a95-4fe9-b344-664929abbb28",
   "metadata": {},
   "outputs": [
    {
     "name": "stdin",
     "output_type": "stream",
     "text": [
      "Nhập số giờ và số phút: 2h30\n"
     ]
    },
    {
     "name": "stdout",
     "output_type": "stream",
     "text": [
      "Số giây tương ứng: 9000.0\n"
     ]
    }
   ],
   "source": [
    "#W2A11\n",
    "h, m=map(float, input('Nhập số giờ và số phút:').split('h'))\n",
    "print(f'Số giây tương ứng: {h*60**2+m*60}')"
   ]
  },
  {
   "cell_type": "code",
   "execution_count": 1,
   "id": "fadba619-b9ad-487c-8804-c1f2293b4c2f",
   "metadata": {},
   "outputs": [
    {
     "name": "stdin",
     "output_type": "stream",
     "text": [
      "Nhập độ dài cạnh rubik: 3\n"
     ]
    },
    {
     "name": "stdout",
     "output_type": "stream",
     "text": [
      "Số lượng miếng dán riêng lẻ cần thiết: 54\n"
     ]
    }
   ],
   "source": [
    "#W2A12\n",
    "n=int(input('Nhập độ dài cạnh rubik:'))\n",
    "print(f'Số lượng miếng dán riêng lẻ cần thiết: {n**2*6}')"
   ]
  },
  {
   "cell_type": "code",
   "execution_count": 3,
   "id": "d2853b5e-e5d7-49f2-a3dc-a856929d9020",
   "metadata": {},
   "outputs": [
    {
     "name": "stdin",
     "output_type": "stream",
     "text": [
      "Nhập 2 số nguyên dương: 7 10\n"
     ]
    },
    {
     "name": "stdout",
     "output_type": "stream",
     "text": [
      "7*10=70\n"
     ]
    }
   ],
   "source": [
    "#W2A13\n",
    "while True:\n",
    " a, b=map(int, input('Nhập 2 số nguyên dương:').split())\n",
    " if a>0 and b>0:\n",
    "    print(f'{a}*{b}={a*b}')\n",
    "    break\n",
    " else:\n",
    "    print('Vui lòng nhập lại')\n"
   ]
  },
  {
   "cell_type": "code",
   "execution_count": 17,
   "id": "f16d9ce7-fb93-4915-9e91-b2592336f788",
   "metadata": {},
   "outputs": [
    {
     "name": "stdin",
     "output_type": "stream",
     "text": [
      "a= 7\n",
      "b= 10\n"
     ]
    },
    {
     "name": "stdout",
     "output_type": "stream",
     "text": [
      "Swap:\n",
      "a= 10\n",
      "b= 7\n"
     ]
    }
   ],
   "source": [
    "#W2A14\n",
    "a=int(input('a='))\n",
    "b=int(input('b='))\n",
    "a=a+b\n",
    "b=a-b\n",
    "a=a-b\n",
    "print('Swap:')\n",
    "print('a=',a)\n",
    "print('b=',b)"
   ]
  },
  {
   "cell_type": "code",
   "execution_count": 7,
   "id": "2ae33aca-a96a-4fcc-93ce-d02afb973962",
   "metadata": {},
   "outputs": [
    {
     "name": "stdin",
     "output_type": "stream",
     "text": [
      "Nhập số nguyên dương -7\n"
     ]
    },
    {
     "name": "stdout",
     "output_type": "stream",
     "text": [
      "Nhập lại\n"
     ]
    },
    {
     "name": "stdin",
     "output_type": "stream",
     "text": [
      "Nhập số nguyên dương 3\n"
     ]
    },
    {
     "name": "stdout",
     "output_type": "stream",
     "text": [
      "Số sao thứ 3: 37\n"
     ]
    }
   ],
   "source": [
    "#W2A15\n",
    "while True:\n",
    "    n=int(input('Nhập số nguyên dương'))\n",
    "    if n>0:\n",
    "        print(f'Số sao thứ {n}: {6*n*(n-1)+1}')\n",
    "        break\n",
    "    else:\n",
    "        print('Nhập lại')"
   ]
  },
  {
   "cell_type": "code",
   "execution_count": 8,
   "id": "65307981-f936-4f0a-b8d3-c513460edca1",
   "metadata": {},
   "outputs": [
    {
     "name": "stdout",
     "output_type": "stream",
     "text": [
      "Spring\n",
      "Summer\n",
      "Autumn\n",
      "Winter\n"
     ]
    }
   ],
   "source": [
    "#W2A16\n",
    "print('Spring\\nSummer\\nAutumn\\nWinter')"
   ]
  },
  {
   "cell_type": "code",
   "execution_count": 9,
   "id": "58777f85-f077-49ce-9710-cca963c2d7db",
   "metadata": {},
   "outputs": [
    {
     "name": "stdout",
     "output_type": "stream",
     "text": [
      "*\n",
      "***\n",
      "*****\n"
     ]
    }
   ],
   "source": [
    "#W2A17\n",
    "print('*')\n",
    "print('***')\n",
    "print('*****')"
   ]
  },
  {
   "cell_type": "code",
   "execution_count": 14,
   "id": "8604b1c1-1c4f-4d3b-b9a9-1f193dbcb9d3",
   "metadata": {},
   "outputs": [
    {
     "name": "stdout",
     "output_type": "stream",
     "text": [
      "### # #   ### ###\n",
      " #  #   #  #   #\n",
      " #  #    # #   #\n",
      " #  #   #  #   #\n",
      " #  # #    #   #\n"
     ]
    }
   ],
   "source": [
    "#W2A18\n",
    "print(\"### # #   ### ###\")\n",
    "print(\" #  #   #  #   #\")\n",
    "print(\" #  #    # #   #\")\n",
    "print(\" #  #   #  #   #\")\n",
    "print(\" #  # #    #   #\")"
   ]
  },
  {
   "cell_type": "code",
   "execution_count": 10,
   "id": "609111bd-7184-4253-9b39-d10df0a2799c",
   "metadata": {},
   "outputs": [
    {
     "name": "stdout",
     "output_type": "stream",
     "text": [
      "Monday\n",
      "Tuesday\n",
      "Wednesday\n",
      "Thursday\n",
      "Friday\n",
      "Saturday\n",
      "Sunday\n"
     ]
    }
   ],
   "source": [
    "#W2A19\n",
    "print('Monday\\nTuesday\\nWednesday\\nThursday\\nFriday\\nSaturday\\nSunday')"
   ]
  },
  {
   "cell_type": "code",
   "execution_count": 11,
   "id": "956b32d0-3af7-4227-b9f1-6ce6d9099d9e",
   "metadata": {},
   "outputs": [
    {
     "name": "stdout",
     "output_type": "stream",
     "text": [
      "January\n",
      "February\n",
      "March\n",
      "April\n",
      "May\n",
      "June\n",
      "July\n",
      "August\n",
      "September\n",
      "October\n",
      "November\n",
      "December\n"
     ]
    }
   ],
   "source": [
    "#W2A20\n",
    "print('January\\nFebruary\\nMarch\\nApril\\nMay\\nJune\\nJuly\\nAugust\\nSeptember\\nOctober\\nNovember\\nDecember')"
   ]
  },
  {
   "cell_type": "code",
   "execution_count": 12,
   "id": "622c4d5a-e683-4af0-ba12-379c1c52a77b",
   "metadata": {},
   "outputs": [
    {
     "name": "stdout",
     "output_type": "stream",
     "text": [
      "Hello, world\n",
      "Hello, world\n",
      "Hello, world\n",
      "Hello, world\n",
      "Hello, world\n",
      "Hello, world\n",
      "Hello, world\n",
      "Hello, world\n",
      "Hello, world\n",
      "Hello, world\n"
     ]
    }
   ],
   "source": [
    "#W2A21\n",
    "for i in range (10):\n",
    "    print('Hello, world')"
   ]
  }
 ],
 "metadata": {
  "kernelspec": {
   "display_name": "Python 3 (ipykernel)",
   "language": "python",
   "name": "python3"
  },
  "language_info": {
   "codemirror_mode": {
    "name": "ipython",
    "version": 3
   },
   "file_extension": ".py",
   "mimetype": "text/x-python",
   "name": "python",
   "nbconvert_exporter": "python",
   "pygments_lexer": "ipython3",
   "version": "3.13.7"
  }
 },
 "nbformat": 4,
 "nbformat_minor": 5
}
