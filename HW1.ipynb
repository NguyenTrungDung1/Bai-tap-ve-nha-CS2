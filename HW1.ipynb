{
 "cells": [
  {
   "cell_type": "code",
   "execution_count": 4,
   "id": "4e8a4435-1b7a-4554-99d9-d55e2606e82b",
   "metadata": {},
   "outputs": [
    {
     "name": "stdin",
     "output_type": "stream",
     "text": [
      " 9\n"
     ]
    },
    {
     "name": "stdout",
     "output_type": "stream",
     "text": [
      "It's an integer!\n"
     ]
    }
   ],
   "source": [
    "def handle(value):\n",
    "    match value:\n",
    "        case int():\n",
    "            print(\"It's an integer!\")\n",
    "        case str():\n",
    "            print(\"It's a string!\")\n",
    "        case list():\n",
    "            print(\"It's a list!\")\n",
    "x=int(input())\n",
    "handle(x)"
   ]
  },
  {
   "cell_type": "code",
   "execution_count": 36,
   "id": "856155fb-853c-4eff-a56c-65de3a788134",
   "metadata": {},
   "outputs": [
    {
     "name": "stdin",
     "output_type": "stream",
     "text": [
      "Enter date (dd/mm/yyyy):  29/02/2004\n"
     ]
    },
    {
     "name": "stdout",
     "output_type": "stream",
     "text": [
      "valid\n"
     ]
    }
   ],
   "source": [
    "#8. Kiểm tra năm nhuận: Viết chương trình nhập năm, kiểm tra xem năm đó có phải\n",
    "#năm nhuận hay không. (Năm nhuận nếu chia hết cho 400 hoặc chia hết cho 4\n",
    "#nhưng không chia hết cho 100) \n",
    "day, month, year = map(int, input(\"Enter date (dd/mm/yyyy): \").split('/'))\n",
    "\n",
    "match year:\n",
    "    case y if y < 1970:\n",
    "        print(\"invalid\")\n",
    "    case y:\n",
    "        match month:\n",
    "            case m if m in (1, 3, 5, 7, 8, 10, 12):\n",
    "                match day:\n",
    "                    case d if 1<=d<=31: print('valid')\n",
    "                    case _: print ('invalid')\n",
    "            case m if m in (4, 6, 9, 11):\n",
    "                match day:\n",
    "                    case d if 1<=d<=30:print('valid')\n",
    "                    case _:print('invalid')\n",
    "            case 2:\n",
    "                is_leap = (y % 4 == 0 and y % 100 != 0) or (y % 400 == 0)\n",
    "                match day:\n",
    "                    case d if 1<=d<=(29 if is_leap else 28): print('valid')\n",
    "                    case _: print('invalid')\n",
    "            case _:print('invalid')    "
   ]
  },
  {
   "cell_type": "code",
   "execution_count": null,
   "id": "7a449c0b-5a5e-4986-9c9b-cc128cf6f71c",
   "metadata": {},
   "outputs": [],
   "source": []
  },
  {
   "cell_type": "code",
   "execution_count": 12,
   "id": "611af228-c40d-4919-ab16-af49d55a6162",
   "metadata": {},
   "outputs": [
    {
     "name": "stdout",
     "output_type": "stream",
     "text": [
      "3.13.7 (tags/v3.13.7:bcee1c3, Aug 14 2025, 14:15:11) [MSC v.1944 64 bit (AMD64)]\n"
     ]
    }
   ],
   "source": [
    "import sys\n",
    "print(sys.version)"
   ]
  }
 ],
 "metadata": {
  "kernelspec": {
   "display_name": "Python 3 (ipykernel)",
   "language": "python",
   "name": "python3"
  },
  "language_info": {
   "codemirror_mode": {
    "name": "ipython",
    "version": 3
   },
   "file_extension": ".py",
   "mimetype": "text/x-python",
   "name": "python",
   "nbconvert_exporter": "python",
   "pygments_lexer": "ipython3",
   "version": "3.13.7"
  }
 },
 "nbformat": 4,
 "nbformat_minor": 5
}
