{
 "cells": [
  {
   "cell_type": "code",
   "execution_count": 2,
   "id": "4f319f35-9dd1-4439-a212-b1a50132d04a",
   "metadata": {},
   "outputs": [
    {
     "name": "stdin",
     "output_type": "stream",
     "text": [
      "Moi nhap so nguyen: 500\n"
     ]
    },
    {
     "name": "stdout",
     "output_type": "stream",
     "text": [
      "1000\n"
     ]
    }
   ],
   "source": [
    "#Bai1: Nhap so nguyen n, in ra so gap doi n\n",
    "n=int(input('Moi nhap so nguyen:'))\n",
    "print(n*2)\n",
    "#+,-,*, //, /, %, **"
   ]
  },
  {
   "cell_type": "code",
   "execution_count": 37,
   "id": "7503e391-c782-4118-8e31-9779fbc00eaf",
   "metadata": {},
   "outputs": [
    {
     "name": "stdin",
     "output_type": "stream",
     "text": [
      " 3 6\n"
     ]
    },
    {
     "name": "stdout",
     "output_type": "stream",
     "text": [
      "10.93\n"
     ]
    }
   ],
   "source": [
    "# Bài 2: Một khu đất hình chữ nhật có chiều rộng a, chiều dài b. Người ra xây một khu\n",
    "# vui chơi hình tròn tại vị trí trung tâm khu đất như hình vẽ. Nhập vào a, b. Hãy tính phần\n",
    "# diện tích còn để trồng cây xung quanh là bao nhiêu. Biết pi = 3.14, lấy kết quả đến 2\n",
    "# chữ số phần thập phân. \n",
    "pi=3.14\n",
    "a, b=map(float, input().split())\n",
    "remain_area=a*b-(a*a*pi)/4\n",
    "print(f'{remain_area:.2f}')\n",
    "# text=\"nguyen hoang anh\"\n",
    "# print(text.split(), sep='')"
   ]
  },
  {
   "cell_type": "code",
   "execution_count": 19,
   "id": "4b4fa25a-536c-4e81-b427-a5685f552a66",
   "metadata": {},
   "outputs": [
    {
     "name": "stdin",
     "output_type": "stream",
     "text": [
      " s\n"
     ]
    },
    {
     "name": "stdout",
     "output_type": "stream",
     "text": [
      "S\n"
     ]
    }
   ],
   "source": [
    "#Bài 3: Viết chương trình nhập vào một “kí tự” c, nếu nó là chữ hoa thì in ra chữ thường\n",
    "#tương ứng và ngược lại nếu nó là chữ thường thì in ra chữ hoa tương ứng của nó. (xem\n",
    "#trước cấu trúc lựa chọn: if….else, ma) \n",
    "ch=input()\n",
    "if(len(ch)==1):\n",
    "    if ('A'<=ch<='Z'):\n",
    "        ch_lower=chr(ord(ch)+32)\n",
    "        print(ch_lower)\n",
    "    else:\n",
    "        ch_upper=chr(ord(ch)-32)\n",
    "        print(ch_upper)\n",
    "else:\n",
    "    print('Ban nhap khong phai 1 ki tu!!!')\n",
    "# >, <, <=, >=, !=, == (so sanh bang), and, or, not\n",
    "# := (phep gan trong bieu thuc dieu kien)"
   ]
  },
  {
   "cell_type": "code",
   "execution_count": 24,
   "id": "36af59b2-936c-410c-9137-665814d10003",
   "metadata": {},
   "outputs": [
    {
     "name": "stdin",
     "output_type": "stream",
     "text": [
      " G\n"
     ]
    },
    {
     "name": "stdout",
     "output_type": "stream",
     "text": [
      "g\n"
     ]
    }
   ],
   "source": [
    "#Cách 2\n",
    "ch=input()\n",
    "if(len(ch)==1):\n",
    "    if (ch.isupper()):\n",
    "        #ch_lo=chr(ord(ch)+32)\n",
    "        ch_lo=ch.lower()\n",
    "        print(ch_lo)\n",
    "    else:\n",
    "        #ch_up=chr(ord(ch)-32)\n",
    "        ch_up=ch.upper()\n",
    "        print(ch_up)\n",
    "else:\n",
    "    print('Ban nhap khong phai 1 ki tu!!!')"
   ]
  },
  {
   "cell_type": "code",
   "execution_count": 29,
   "id": "f290c403-4ac4-4e4e-b83d-7833cb7c4b1f",
   "metadata": {},
   "outputs": [
    {
     "name": "stdin",
     "output_type": "stream",
     "text": [
      "Moi ban nhap mot ki tu: DHCN\n"
     ]
    },
    {
     "name": "stdout",
     "output_type": "stream",
     "text": [
      "'DHCN' khong phai mot ki tu\n"
     ]
    }
   ],
   "source": [
    "#Bài 4: Viết chương trình nhập vào một “kí tự”, Kiểm tra xem c có phải là kí tự chữ cái\n",
    "#không (hoa hoặc thường). Nếu đúng thì in ra “{c} là kí tu alphabet”, nếu sai in ra “{c}\n",
    "#không phải là kí tự alphabet. \n",
    "c=input('Moi ban nhap mot ki tu:')\n",
    "if(len(c)==1):\n",
    "    if(c.isalpha()):\n",
    "        print(f'{c} la ki tu alphabet')\n",
    "    else:\n",
    "        print(f'{c} khong phai la ki tu alphabet')\n",
    "else:\n",
    "    print(f\"'{c}' khong phai mot ki tu\")"
   ]
  },
  {
   "cell_type": "code",
   "execution_count": 7,
   "id": "432d35c1-db04-481f-810f-e92371292508",
   "metadata": {},
   "outputs": [
    {
     "name": "stdin",
     "output_type": "stream",
     "text": [
      "Nhap mot chu cai hoa A\n"
     ]
    },
    {
     "name": "stdout",
     "output_type": "stream",
     "text": [
      "Truong hop dac biet\n"
     ]
    }
   ],
   "source": [
    "#Bài 5: Nhập vào chữ cái hoa A, in ra chữ cái thường liền trước chữ cái a thường tương\n",
    "#ứng của A. Xét TH khi c = ‘A’ là đặc biệt. \n",
    "A=input(\"Nhap mot chu cai hoa\")\n",
    "if (len(A)==1):\n",
    "    if(A==\"A\"):print(\"Truong hop dac biet\")\n",
    "    elif(A.isupper()):\n",
    "        A_lo=chr(ord(A)+31)\n",
    "        print(A_lo)\n",
    "    else:print(\"Nhap chu hoa\")\n",
    "else:print(\"Chi nhap mot chu cai\")\n"
   ]
  },
  {
   "cell_type": "code",
   "execution_count": 35,
   "id": "d01e78f9-334a-4c37-9882-9aeac25632a9",
   "metadata": {},
   "outputs": [
    {
     "name": "stdin",
     "output_type": "stream",
     "text": [
      " 3 4 5\n"
     ]
    },
    {
     "name": "stdout",
     "output_type": "stream",
     "text": [
      "Dien tich tam giac: 6.0\n",
      "Chu vi tam giac: 12.0\n"
     ]
    }
   ],
   "source": [
    "#Bài 6. Nhập vào 3 số a, b, c. Kiểm tra xem đây có phải là cạnh của 1 tam giác không,\n",
    "#nếu đúng thì tính diện tích của tam giác đó, in ra với 1 chữ số phần thập phân, nếu nó\n",
    "#hông phải 3 cạnh của tam giác thì in ra “Khong phai 3 canh cua tam giac”. \n",
    "a, b, c=map(float, input().split())\n",
    "if (a+b>c and c+b>a and c+a>b):\n",
    "    P=(a+b+c)/2\n",
    "    S=P*(P-a)*(P-b)*(P-c)\n",
    "    S=S**0.5\n",
    "    print(f'Dien tich tam giac: {S:.1f}\\nChu vi tam giac: {P*2:.1f}')"
   ]
  },
  {
   "cell_type": "code",
   "execution_count": 39,
   "id": "e5c6d19c-b82f-4974-b7bc-7410ef5fb430",
   "metadata": {},
   "outputs": [
    {
     "name": "stdin",
     "output_type": "stream",
     "text": [
      " toi so troi mua to vi so ngap\n"
     ]
    },
    {
     "name": "stdout",
     "output_type": "stream",
     "text": [
      "s\n",
      "r\n",
      "p\n"
     ]
    }
   ],
   "source": [
    "#Bài 7: Nhập vào một chuỗi gồm các kí tự thường độ dài >=20, in ra chữ cái thứ năm và\n",
    "#thứ chín của chuỗi này. \n",
    "text=input()\n",
    "n=len(text)   #text[0], text[1], ..., text[n-1]\n",
    "if(n>=20):\n",
    "    print(text[4], text[8], text[-1], sep='\\n') # text[-1]==text[n-1]\n",
    "else:\n",
    "    print('Khong du ki tu')"
   ]
  },
  {
   "cell_type": "code",
   "execution_count": 42,
   "id": "26abc560-ab51-41d0-b8a9-91b6933882be",
   "metadata": {},
   "outputs": [
    {
     "name": "stdin",
     "output_type": "stream",
     "text": [
      "Ten chu ho: Nguyen Nhat Bach\n",
      "Chi so cuoi thang truoc: 1000\n",
      "Chi so thang nay: 2000\n"
     ]
    },
    {
     "name": "stdout",
     "output_type": "stream",
     "text": [
      "Ho va ten: Nguyen Nhat Bach\n",
      "Tien phai tra la: 3402540.0\n"
     ]
    }
   ],
   "source": [
    "#Bài 8: Nhập vào họ tên chủ hộ và chỉ số điện kế tháng trước và chỉ số điện kế tháng này,\n",
    "#tính tiền điện tháng này cho hộ biết:\n",
    "#- Từ 0 – 50kWh: 1.984 đồng/kWh\n",
    "#- Bậc 2: Từ 51 – 100 kWh: 2.050 đồng/kWh\n",
    "#- Bậc 3: Từ 101 – 200 kWh: 2.380 đồng/kWh\n",
    "#- Bậc 4: Từ 201 – 300 kWh: 2.998 đồng/kWh\n",
    "#- Bậc 5: Từ 301 – 400 kWh: 3.350 đồng/kWh\n",
    "#- Bậc 6: Từ 401 trở đi kWh: 3.460 đồng/kWh\n",
    "#Tính thêm tiền VAT 8%. Chỉ lấy đến đơn vị đồng \n",
    "ten_chu_ho=input(\"Ten chu ho:\")\n",
    "cs_thang_truoc=int(input(\"Chi so cuoi thang truoc:\"))\n",
    "cs_thang_nay=int(input(\"Chi so thang nay:\"))\n",
    "so_KW= cs_thang_nay - cs_thang_truoc\n",
    "total_money=0\n",
    "#Loc tu tren xuong\n",
    "if (so_KW > 400):\n",
    "    total_money += (so_KW-400)*3460\n",
    "    so_KW=400\n",
    "if(so_KW>300):\n",
    "    total_money += (so_KW-300)*3350\n",
    "    so_KW=300\n",
    "if(so_KW>200):\n",
    "    total_money += (so_KW-200)*2998\n",
    "    so_KW=200\n",
    "if(so_KW>100):\n",
    "    total_money += (so_KW-100)*2380\n",
    "    so_KW=100\n",
    "if (so_KW>50):\n",
    "    total_money += (so_KW-50)*2050\n",
    "    so_KW=50\n",
    "total_money += so_KW*1984\n",
    "total_money=total_money*108/100\n",
    "print(f\"Ho va ten: {ten_chu_ho}\")\n",
    "print(f\"Tien phai tra la: {total_money}\")"
   ]
  },
  {
   "cell_type": "code",
   "execution_count": 9,
   "id": "77eb5b2e-408c-4bbe-8569-a16a6b25de0d",
   "metadata": {},
   "outputs": [
    {
     "name": "stdin",
     "output_type": "stream",
     "text": [
      " 7\n"
     ]
    },
    {
     "name": "stdout",
     "output_type": "stream",
     "text": [
      "7 la so le\n"
     ]
    }
   ],
   "source": [
    "#1. Kiểm tra số chẵn lẻ: Viết chương trình nhập một số nguyên, kiểm tra và in ra số đó\n",
    "#là số chẵn hay số lẻ.\n",
    "n=int(input())\n",
    "if n%2==0:\n",
    "    print(f'{n} la so chan')\n",
    "else:\n",
    "    print(f'{n} la so le')"
   ]
  },
  {
   "cell_type": "code",
   "execution_count": 8,
   "id": "84c43f3a-69d9-4dd3-96e5-2e12f5eb79a1",
   "metadata": {},
   "outputs": [
    {
     "name": "stdin",
     "output_type": "stream",
     "text": [
      "nhap vao mot so nguyen: 5\n"
     ]
    },
    {
     "name": "stdout",
     "output_type": "stream",
     "text": [
      "YES\n"
     ]
    }
   ],
   "source": [
    "#2. Kiểm tra số có tận cùng 5 không: Viết chương trình nhập một số nguyên, kiểm tra\n",
    "#số đó có tận cùng 5 không, nếu đúng in ra “True”, nếu sai in ra “False”.\n",
    "n=int(input(\"nhap vao mot so nguyen:\"))\n",
    "print(\"YES\" if (n%10==5) else \"NO\")\n",
    "#if(n%10==5):\n",
    "#   print(\"YES\")\n",
    "#else:\n",
    "#    print(\"NO\")"
   ]
  },
  {
   "cell_type": "code",
   "execution_count": 12,
   "id": "dcf60c4d-b843-46e1-b64e-26e8f9570351",
   "metadata": {},
   "outputs": [
    {
     "name": "stdin",
     "output_type": "stream",
     "text": [
      "So chia het cho 3 va 5: 45\n"
     ]
    },
    {
     "name": "stdout",
     "output_type": "stream",
     "text": [
      "TRUE\n"
     ]
    }
   ],
   "source": [
    "#3. Kiểm tra số có chia hết cho 3 và 5 không: Viết chương trình nhập một số nguyên,\n",
    "#kiểm tra số đó có chia hết cho 3 và 5 không, nếu đúng in ra “True”, nếu sai in ra\n",
    "#“False”.\n",
    "n=int(input(\"So chia het cho 3 va 5:\"))\n",
    "print(\"TRUE\" if (n%3==0 and n%5==0) else \"FALSE\")\n"
   ]
  },
  {
   "cell_type": "code",
   "execution_count": 13,
   "id": "ffb5e27a-3c84-4acb-9c2c-739f9929ecfa",
   "metadata": {},
   "outputs": [
    {
     "name": "stdin",
     "output_type": "stream",
     "text": [
      " 30\n"
     ]
    },
    {
     "name": "stdout",
     "output_type": "stream",
     "text": [
      "Nguoi Lon\n"
     ]
    }
   ],
   "source": [
    "#4. Kiểm tra tuổi đủ điều kiện bầu cử: Viết chương trình nhập năm sinh của một\n",
    "#người, kiểm tra xem người đó có đủ 18 tuổi để đi bầu cử hay không. \n",
    "tuoi=int(input())\n",
    "#if (tuoi<13):\n",
    " #   print (\"Tre con\")\n",
    "#elif tuoi<18:\n",
    " #   print(\"Thieu nien\")\n",
    "#else:\n",
    " #   print(\"Nguoi lon\")\n",
    "print( \"Tre con\" if (tuoi<13)  else (\"Thanh Nien\" if (tuoi<18)  else \"Nguoi Lon\"))"
   ]
  },
  {
   "cell_type": "code",
   "execution_count": 19,
   "id": "53371764-a4c5-4425-acfd-11f0b3e10e00",
   "metadata": {},
   "outputs": [
    {
     "name": "stdin",
     "output_type": "stream",
     "text": [
      "Nhap hai so 100/10\n"
     ]
    },
    {
     "name": "stdout",
     "output_type": "stream",
     "text": [
      "So lon hon la: 100.0\n"
     ]
    }
   ],
   "source": [
    "#5. So sánh 2 số: Viết chương trình nhập vào hai số, in ra số lớn hơn hoặc thông báo\n",
    "#nếu hai số bằng nhau.\n",
    "x, y=map(float, input(\"Nhap hai so\").split('/'))\n",
    "print(\"So lon hon la:\", x if(x>y) else(y if (y>x) else \"bang nhau\"))\n"
   ]
  },
  {
   "cell_type": "code",
   "execution_count": 27,
   "id": "99675d30-0e6a-4b22-b114-e1a9b6298ebb",
   "metadata": {},
   "outputs": [
    {
     "name": "stdin",
     "output_type": "stream",
     "text": [
      "Nhap mot ky tu 3.5\n"
     ]
    },
    {
     "name": "stdout",
     "output_type": "stream",
     "text": [
      "Chi nhap 1 ky tu\n"
     ]
    }
   ],
   "source": [
    "#6. Kiểm tra ký tự nhập vào là chữ hay số: Viết chương trình nhập một ký tự, kiểm\n",
    "#tra xem ký tự đó là chữ cái hay số. \n",
    "n=input(\"Nhap mot ky tu\")\n",
    "if (len(n)==1): \n",
    "    if(n.isalpha()):print(f'{n} la chu cai') \n",
    "    elif(n.isdigit()):print(f'{n} la so')\n",
    "    else: print(\"Khong phai chu cai, cx khong phai so\")\n",
    "else:print(\"Chi nhap 1 ky tu\")\n"
   ]
  },
  {
   "cell_type": "code",
   "execution_count": 34,
   "id": "21161c65-e3a1-40e0-a9f0-0b3518c12115",
   "metadata": {},
   "outputs": [
    {
     "name": "stdin",
     "output_type": "stream",
     "text": [
      "Nhap diem 8\n"
     ]
    },
    {
     "name": "stdout",
     "output_type": "stream",
     "text": [
      "Giỏi\n"
     ]
    }
   ],
   "source": [
    "#7. Bài tập 5: Tính điểm học lực\n",
    "#Nhập điểm (0-10), phân loại học lực theo quy tắc:\n",
    "#>=8: Giỏi; >=6.5 và <8: Khá; >=5 và <6.5: Trung bình; <5: Yếu \n",
    "score=float(input(\"Nhap diem\"))\n",
    "if score>=8:print(\"Giỏi\")\n",
    "elif score>=6.5:print(\"Khá\")\n",
    "elif score>=5:print(\"Trung Bình\")\n",
    "else:print(\"Yếu\")"
   ]
  },
  {
   "cell_type": "code",
   "execution_count": 36,
   "id": "856155fb-853c-4eff-a56c-65de3a788134",
   "metadata": {},
   "outputs": [
    {
     "name": "stdin",
     "output_type": "stream",
     "text": [
      "Enter date (dd/mm/yyyy):  29/02/2004\n"
     ]
    },
    {
     "name": "stdout",
     "output_type": "stream",
     "text": [
      "valid\n"
     ]
    }
   ],
   "source": [
    "#8. Kiểm tra năm nhuận: Viết chương trình nhập năm, kiểm tra xem năm đó có phải\n",
    "#năm nhuận hay không. (Năm nhuận nếu chia hết cho 400 hoặc chia hết cho 4\n",
    "#nhưng không chia hết cho 100) \n",
    "day, month, year = map(int, input(\"Enter date (dd/mm/yyyy): \").split('/'))\n",
    "\n",
    "match year:\n",
    "    case y if y < 1970:\n",
    "        print(\"invalid\")\n",
    "    case y:\n",
    "        match month:\n",
    "            case m if m in (1, 3, 5, 7, 8, 10, 12):\n",
    "                match day:\n",
    "                    case d if 1<=d<=31: print('valid')\n",
    "                    case _: print ('invalid')\n",
    "            case m if m in (4, 6, 9, 11):\n",
    "                match day:\n",
    "                    case d if 1<=d<=30:print('valid')\n",
    "                    case _:print('invalid')\n",
    "            case 2:\n",
    "                is_leap = (y % 4 == 0 and y % 100 != 0) or (y % 400 == 0)\n",
    "                match day:\n",
    "                    case d if 1<=d<=(29 if is_leap else 28): print('valid')\n",
    "                    case _: print('invalid')\n",
    "            case _:print('invalid')    "
   ]
  },
  {
   "cell_type": "code",
   "execution_count": 37,
   "id": "439efa10-ab7c-4d07-b14d-253ea44d3e67",
   "metadata": {},
   "outputs": [
    {
     "name": "stdin",
     "output_type": "stream",
     "text": [
      "Nhap mot so nguyen tu 0 den 9: 110\n"
     ]
    },
    {
     "name": "stdout",
     "output_type": "stream",
     "text": [
      "Nhap lai\n"
     ]
    }
   ],
   "source": [
    "#9. Chuyển đổi số thành chữ số: Nhập một số nguyên từ 0 đến 9, in ra tên chữ số\n",
    "#tương ứng (0 -> \"Không\", 1 -> \"Một\", ...) – Xem trước match …case \n",
    "number=int(input(\"Nhap mot so nguyen tu 0 den 9:\"))\n",
    "match number:\n",
    "    case 0:print(\"Không\")\n",
    "    case 1:print(\"Một\")\n",
    "    case 2:print(\"Hai\")\n",
    "    case 3:print(\"Ba\")\n",
    "    case 4:print(\"Bốn\")\n",
    "    case 5:print(\"Năm\")\n",
    "    case 6:print(\"Sáu\")\n",
    "    case 7:print(\"Bảy\")\n",
    "    case 8:print(\"Tám\")\n",
    "    case 9:print(\"Chín\")\n",
    "    case _:print(\"Nhap lai\")"
   ]
  },
  {
   "cell_type": "code",
   "execution_count": 42,
   "id": "d424c70e-8932-4cd8-a036-772edae235d8",
   "metadata": {},
   "outputs": [
    {
     "name": "stdin",
     "output_type": "stream",
     "text": [
      "Nhap diem thi 3.5\n"
     ]
    },
    {
     "name": "stdout",
     "output_type": "stream",
     "text": [
      "Học lại\n"
     ]
    }
   ],
   "source": [
    "#10.Kiểm tra điểm thi xem có qua môn hay phải học lại: Nhập điểm thi, nếu điểm >=\n",
    "#4 thì in \"Qua môn\", ngược lại in \"Học lại\". \n",
    "n=float(input(\"Nhap diem thi\"))\n",
    "if n>=4: print(\"Qua môn\")\n",
    "else:print(\"Học lại\")"
   ]
  },
  {
   "cell_type": "code",
   "execution_count": 46,
   "id": "4bd01108-cd58-444f-9dbb-141f3f3dbf1c",
   "metadata": {},
   "outputs": [
    {
     "name": "stdin",
     "output_type": "stream",
     "text": [
      "Nhap nam sinh 2007\n"
     ]
    },
    {
     "name": "stdout",
     "output_type": "stream",
     "text": [
      "Tuoi hien tai la: 18\n",
      "Du 18 tuoi\n"
     ]
    }
   ],
   "source": [
    "#11.Kiểm tra năm sinh và tính tuổi: Nhập năm sinh, tính tuổi hiện tại (giả sử năm\n",
    "#hiện tại là 2025), và kiểm tra xem người đó có đủ 18 tuổi hay chưa. \n",
    "n=int(input(\"Nhap nam sinh\"))\n",
    "print(f'Tuoi hien tai la: {2025-n}')\n",
    "if (2025-n)>=18:print(\"Du 18 tuoi\")\n",
    "else:print(\"Chua du 18 tuoi\")"
   ]
  },
  {
   "cell_type": "code",
   "execution_count": 20,
   "id": "7a449c0b-5a5e-4986-9c9b-cc128cf6f71c",
   "metadata": {},
   "outputs": [
    {
     "name": "stdout",
     "output_type": "stream",
     "text": [
      "['ArithmeticError', 'AssertionError', 'AttributeError', 'BaseException', 'BaseExceptionGroup', 'BlockingIOError', 'BrokenPipeError', 'BufferError', 'BytesWarning', 'ChildProcessError', 'ConnectionAbortedError', 'ConnectionError', 'ConnectionRefusedError', 'ConnectionResetError', 'DeprecationWarning', 'EOFError', 'Ellipsis', 'EncodingWarning', 'EnvironmentError', 'Exception', 'ExceptionGroup', 'False', 'FileExistsError', 'FileNotFoundError', 'FloatingPointError', 'FutureWarning', 'GeneratorExit', 'IOError', 'ImportError', 'ImportWarning', 'IndentationError', 'IndexError', 'InterruptedError', 'IsADirectoryError', 'KeyError', 'KeyboardInterrupt', 'LookupError', 'MemoryError', 'ModuleNotFoundError', 'NameError', 'None', 'NotADirectoryError', 'NotImplemented', 'NotImplementedError', 'OSError', 'OverflowError', 'PendingDeprecationWarning', 'PermissionError', 'ProcessLookupError', 'PythonFinalizationError', 'RecursionError', 'ReferenceError', 'ResourceWarning', 'RuntimeError', 'RuntimeWarning', 'StopAsyncIteration', 'StopIteration', 'SyntaxError', 'SyntaxWarning', 'SystemError', 'SystemExit', 'TabError', 'TimeoutError', 'True', 'TypeError', 'UnboundLocalError', 'UnicodeDecodeError', 'UnicodeEncodeError', 'UnicodeError', 'UnicodeTranslateError', 'UnicodeWarning', 'UserWarning', 'ValueError', 'Warning', 'WindowsError', 'ZeroDivisionError', '_IncompleteInputError', '__IPYTHON__', '__build_class__', '__debug__', '__doc__', '__import__', '__loader__', '__name__', '__package__', '__spec__', 'abs', 'aiter', 'all', 'anext', 'any', 'ascii', 'bin', 'bool', 'breakpoint', 'bytearray', 'bytes', 'callable', 'chr', 'classmethod', 'compile', 'complex', 'copyright', 'credits', 'delattr', 'dict', 'dir', 'display', 'divmod', 'enumerate', 'eval', 'exec', 'execfile', 'filter', 'float', 'format', 'frozenset', 'get_ipython', 'getattr', 'globals', 'hasattr', 'hash', 'help', 'hex', 'id', 'input', 'int', 'isinstance', 'issubclass', 'iter', 'len', 'license', 'list', 'locals', 'map', 'max', 'memoryview', 'min', 'next', 'object', 'oct', 'open', 'ord', 'pow', 'print', 'property', 'range', 'repr', 'reversed', 'round', 'runfile', 'set', 'setattr', 'slice', 'sorted', 'staticmethod', 'str', 'sum', 'super', 'tuple', 'type', 'vars', 'zip']\n"
     ]
    }
   ],
   "source": [
    "import builtins\n",
    "print(dir(builtins))\n",
    "#print(help(map))"
   ]
  },
  {
   "cell_type": "code",
   "execution_count": 4,
   "id": "4e8a4435-1b7a-4554-99d9-d55e2606e82b",
   "metadata": {},
   "outputs": [
    {
     "name": "stdin",
     "output_type": "stream",
     "text": [
      " 9\n"
     ]
    },
    {
     "name": "stdout",
     "output_type": "stream",
     "text": [
      "It's an integer!\n"
     ]
    }
   ],
   "source": [
    "def handle(value):\n",
    "    match value:\n",
    "        case int():\n",
    "            print(\"It's an integer!\")\n",
    "        case str():\n",
    "            print(\"It's a string!\")\n",
    "        case list():\n",
    "            print(\"It's a list!\")\n",
    "x=int(input())\n",
    "handle(x)"
   ]
  },
  {
   "cell_type": "code",
   "execution_count": 12,
   "id": "611af228-c40d-4919-ab16-af49d55a6162",
   "metadata": {},
   "outputs": [
    {
     "name": "stdout",
     "output_type": "stream",
     "text": [
      "3.13.7 (tags/v3.13.7:bcee1c3, Aug 14 2025, 14:15:11) [MSC v.1944 64 bit (AMD64)]\n"
     ]
    }
   ],
   "source": [
    "import sys\n",
    "print(sys.version)"
   ]
  },
  {
   "cell_type": "code",
   "execution_count": 54,
   "id": "030b4c7d-a156-43ec-80b1-99935f3c9db3",
   "metadata": {},
   "outputs": [
    {
     "name": "stdout",
     "output_type": "stream",
     "text": [
      "5\n",
      "7\n"
     ]
    }
   ],
   "source": [
    "#1000: 8\n",
    "#0111: 7\n",
    "a=7\n",
    "b=5\n",
    "a^=b\n",
    "b^=a\n",
    "a^=b\n",
    "print(a)\n",
    "print(b)"
   ]
  }
 ],
 "metadata": {
  "kernelspec": {
   "display_name": "Python 3 (ipykernel)",
   "language": "python",
   "name": "python3"
  },
  "language_info": {
   "codemirror_mode": {
    "name": "ipython",
    "version": 3
   },
   "file_extension": ".py",
   "mimetype": "text/x-python",
   "name": "python",
   "nbconvert_exporter": "python",
   "pygments_lexer": "ipython3",
   "version": "3.13.7"
  }
 },
 "nbformat": 4,
 "nbformat_minor": 5
}
